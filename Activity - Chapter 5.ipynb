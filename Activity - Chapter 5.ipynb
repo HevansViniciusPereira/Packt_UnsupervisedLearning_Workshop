{
 "cells": [
  {
   "cell_type": "markdown",
   "metadata": {},
   "source": [
    "# The MNIST Neural Network"
   ]
  },
  {
   "cell_type": "markdown",
   "metadata": {},
   "source": [
    "<b> Import pickle, numpy, matplotlib, and the Sequential and Dense classes from Keras </b>"
   ]
  },
  {
   "cell_type": "code",
   "execution_count": 1,
   "metadata": {},
   "outputs": [],
   "source": [
    "import pickle\n",
    "import numpy as np\n",
    "import matplotlib.pyplot as plt\n",
    "from keras.models import Sequential\n",
    "from keras.layers import Dense\n",
    "\n",
    "import tensorflow.python.util.deprecation as deprecation\n",
    "deprecation._PRINT_DEPRECATION_WARNINGS = False"
   ]
  },
  {
   "cell_type": "markdown",
   "metadata": {},
   "source": [
    "<b> Load the mnist.pkl file </b>"
   ]
  },
  {
   "cell_type": "code",
   "execution_count": 2,
   "metadata": {},
   "outputs": [],
   "source": [
    "with open('datasets/mnist.pkl', 'rb') as f:\n",
    "    data = pickle.load(f, encoding='bytes')"
   ]
  },
  {
   "cell_type": "code",
   "execution_count": 3,
   "metadata": {},
   "outputs": [],
   "source": [
    "images = data['images']\n",
    "labels = data['labels']"
   ]
  },
  {
   "cell_type": "markdown",
   "metadata": {},
   "source": [
    "<b> Plot the first 10 samples along with the corresponding labels </b>"
   ]
  },
  {
   "cell_type": "code",
   "execution_count": 4,
   "metadata": {},
   "outputs": [
    {
     "data": {
      "image/png": "[encoded data removed]",
      "text/plain": [
       "<Figure size 720x504 with 10 Axes>"
      ]
     },
     "metadata": {
      "needs_background": "light"
     },
     "output_type": "display_data"
    }
   ],
   "source": [
    "plt.figure(figsize=(10, 7))\n",
    "for i in range(10):\n",
    "    plt.subplot(2, 5, i+1)\n",
    "    plt.imshow(images[i])\n",
    "    plt.title(labels[i])\n",
    "    plt.axis('off')"
   ]
  },
  {
   "cell_type": "markdown",
   "metadata": {},
   "source": [
    "<b> Encode the labels using one-hot encoding </b>"
   ]
  },
  {
   "cell_type": "code",
   "execution_count": 5,
   "metadata": {},
   "outputs": [],
   "source": [
    "one_hot_labels = np.zeros((images.shape[0], 10))\n",
    "\n",
    "for idx, lab in enumerate(labels):\n",
    "    one_hot_labels[idx, lab] = 1"
   ]
  },
  {
   "cell_type": "code",
   "execution_count": 6,
   "metadata": {},
   "outputs": [
    {
     "data": {
      "text/plain": [
       "array([[0., 0., 0., ..., 0., 0., 0.],\n",
       "       [1., 0., 0., ..., 0., 0., 0.],\n",
       "       [0., 0., 0., ..., 0., 0., 0.],\n",
       "       ...,\n",
       "       [0., 0., 0., ..., 0., 0., 0.],\n",
       "       [0., 0., 0., ..., 0., 0., 1.],\n",
       "       [0., 0., 0., ..., 1., 0., 0.]])"
      ]
     },
     "execution_count": 6,
     "metadata": {},
     "output_type": "execute_result"
    }
   ],
   "source": [
    "one_hot_labels"
   ]
  },
  {
   "cell_type": "markdown",
   "metadata": {},
   "source": [
    "<b> Prepare the images for input into a neural network. As a hint, there are two separate steps in this process </b>"
   ]
  },
  {
   "cell_type": "code",
   "execution_count": 7,
   "metadata": {},
   "outputs": [],
   "source": [
    "images = images.reshape((-1, 28 * 28))\n",
    "images = images / 255"
   ]
  },
  {
   "cell_type": "markdown",
   "metadata": {},
   "source": [
    "<b> Construct a neural network model in Keras that accepts the prepared images and has a hidden layer of 600 units with a ReLU activation function and an output of the same number of units as classes. The output layer uses a softmax activation function </b>"
   ]
  },
  {
   "cell_type": "code",
   "execution_count": 8,
   "metadata": {},
   "outputs": [],
   "source": [
    "model = Sequential(\n",
    "    [Dense(600, input_shape=(28 * 28, ), activation='relu'), \n",
    "     Dense(10, activation='softmax')]\n",
    "                  )"
   ]
  },
  {
   "cell_type": "markdown",
   "metadata": {},
   "source": [
    "<b> Compile the model using multiclass cross-entropy, stochastic gradient descent, and an accuracy performance metric </b>"
   ]
  },
  {
   "cell_type": "code",
   "execution_count": 9,
   "metadata": {},
   "outputs": [],
   "source": [
    "model.compile(loss='categorical_crossentropy',\n",
    "             optimizer='sgd',\n",
    "             metrics=['accuracy'])"
   ]
  },
  {
   "cell_type": "markdown",
   "metadata": {},
   "source": [
    "<b> Train the model. How many epochs are required to achieve at least 95% classification accuracy on the training data? </b>"
   ]
  },
  {
   "cell_type": "code",
   "execution_count": 10,
   "metadata": {},
   "outputs": [
    {
     "name": "stdout",
     "output_type": "stream",
     "text": [
      "Epoch 1/20\n",
      "313/313 [==============================] - 2s 4ms/step - loss: 1.7325 - accuracy: 0.5261\n",
      "Epoch 2/20\n",
      "313/313 [==============================] - 1s 4ms/step - loss: 0.6762 - accuracy: 0.8542\n",
      "Epoch 3/20\n",
      "313/313 [==============================] - 2s 5ms/step - loss: 0.4892 - accuracy: 0.8825\n",
      "Epoch 4/20\n",
      "313/313 [==============================] - 2s 5ms/step - loss: 0.4206 - accuracy: 0.8913\n",
      "Epoch 5/20\n",
      "313/313 [==============================] - 2s 5ms/step - loss: 0.3724 - accuracy: 0.9016\n",
      "Epoch 6/20\n",
      "313/313 [==============================] - 2s 5ms/step - loss: 0.3448 - accuracy: 0.9111\n",
      "Epoch 7/20\n",
      "313/313 [==============================] - 2s 5ms/step - loss: 0.3201 - accuracy: 0.9150\n",
      "Epoch 8/20\n",
      "313/313 [==============================] - 2s 6ms/step - loss: 0.3013 - accuracy: 0.9240\n",
      "Epoch 9/20\n",
      "313/313 [==============================] - 2s 5ms/step - loss: 0.2827 - accuracy: 0.9264\n",
      "Epoch 10/20\n",
      "313/313 [==============================] - 2s 5ms/step - loss: 0.2759 - accuracy: 0.9290\n",
      "Epoch 11/20\n",
      "313/313 [==============================] - 2s 5ms/step - loss: 0.2677 - accuracy: 0.9297\n",
      "Epoch 12/20\n",
      "313/313 [==============================] - 2s 6ms/step - loss: 0.2619 - accuracy: 0.9316\n",
      "Epoch 13/20\n",
      "313/313 [==============================] - 2s 6ms/step - loss: 0.2492 - accuracy: 0.9329\n",
      "Epoch 14/20\n",
      "313/313 [==============================] - 2s 6ms/step - loss: 0.2463 - accuracy: 0.9312\n",
      "Epoch 15/20\n",
      "313/313 [==============================] - 2s 5ms/step - loss: 0.2299 - accuracy: 0.9373\n",
      "Epoch 16/20\n",
      "313/313 [==============================] - 2s 5ms/step - loss: 0.2448 - accuracy: 0.9334\n",
      "Epoch 17/20\n",
      "313/313 [==============================] - 2s 5ms/step - loss: 0.2305 - accuracy: 0.9415\n",
      "Epoch 18/20\n",
      "313/313 [==============================] - 2s 7ms/step - loss: 0.2232 - accuracy: 0.9380\n",
      "Epoch 19/20\n",
      "313/313 [==============================] - 2s 6ms/step - loss: 0.2179 - accuracy: 0.9444\n",
      "Epoch 20/20\n",
      "313/313 [==============================] - 2s 6ms/step - loss: 0.2019 - accuracy: 0.9464: 0s - loss: 0.2006 - accu\n"
     ]
    },
    {
     "data": {
      "text/plain": [
       "<tensorflow.python.keras.callbacks.History at 0x1712f660c48>"
      ]
     },
     "execution_count": 10,
     "metadata": {},
     "output_type": "execute_result"
    }
   ],
   "source": [
    "model.fit(images, one_hot_labels, epochs=20)"
   ]
  },
  {
   "cell_type": "markdown",
   "metadata": {},
   "source": [
    "# Simple MNIST Autoencoder"
   ]
  },
  {
   "cell_type": "code",
   "execution_count": 11,
   "metadata": {},
   "outputs": [],
   "source": [
    "# import packages\n",
    "from keras.models import Model\n",
    "from keras.layers import Input, Dense"
   ]
  },
  {
   "cell_type": "markdown",
   "metadata": {},
   "source": [
    "<b> Construct a simple autoencoder network that reduces the image size to 10 x 10 after the encoding stage </b>"
   ]
  },
  {
   "cell_type": "code",
   "execution_count": 12,
   "metadata": {},
   "outputs": [],
   "source": [
    "input_layer = Input(shape=(28 , 28 , ))"
   ]
  },
  {
   "cell_type": "code",
   "execution_count": 13,
   "metadata": {},
   "outputs": [],
   "source": [
    "encoding_stage = Dense(10 * 10, activation='relu')(input_layer)"
   ]
  },
  {
   "cell_type": "code",
   "execution_count": 14,
   "metadata": {},
   "outputs": [],
   "source": [
    "# define decode layer\n",
    "decoding_stage = Dense(28, activation='sigmoid')(encoding_stage)"
   ]
  },
  {
   "cell_type": "code",
   "execution_count": 15,
   "metadata": {},
   "outputs": [],
   "source": [
    "# construct the model\n",
    "autoencoder = Model(input_layer, decoding_stage)"
   ]
  },
  {
   "cell_type": "markdown",
   "metadata": {},
   "source": [
    "<b> Compile the autoencoder using a binary cross-entropy loss function and adadelta gradient descent </b>"
   ]
  },
  {
   "cell_type": "code",
   "execution_count": 16,
   "metadata": {},
   "outputs": [],
   "source": [
    "# compile the autoencoder\n",
    "autoencoder.compile(loss='binary_crossentropy', optimizer='adadelta')"
   ]
  },
  {
   "cell_type": "markdown",
   "metadata": {},
   "source": [
    "<b> Fit the encoder model </b>"
   ]
  },
  {
   "cell_type": "code",
   "execution_count": 17,
   "metadata": {},
   "outputs": [
    {
     "name": "stdout",
     "output_type": "stream",
     "text": [
      "Epoch 1/100\n",
      "313/313 [==============================] - 2s 4ms/step - loss: -331.6611\n",
      "Epoch 2/100\n",
      "313/313 [==============================] - 1s 4ms/step - loss: -415.6839\n",
      "Epoch 3/100\n",
      "313/313 [==============================] - 1s 4ms/step - loss: -513.7254\n",
      "Epoch 4/100\n",
      "313/313 [==============================] - 2s 6ms/step - loss: -632.7553\n",
      "Epoch 5/100\n",
      "313/313 [==============================] - 2s 5ms/step - loss: -755.0660\n",
      "Epoch 6/100\n",
      "313/313 [==============================] - 1s 4ms/step - loss: -890.0079\n",
      "Epoch 7/100\n",
      "313/313 [==============================] - 1s 4ms/step - loss: -1042.2948\n",
      "Epoch 8/100\n",
      "313/313 [==============================] - 1s 4ms/step - loss: -1201.0575\n",
      "Epoch 9/100\n",
      "313/313 [==============================] - 1s 4ms/step - loss: -1357.5784\n",
      "Epoch 10/100\n",
      "313/313 [==============================] - 1s 4ms/step - loss: -1544.9532\n",
      "Epoch 11/100\n",
      "313/313 [==============================] - 1s 4ms/step - loss: -1750.6047\n",
      "Epoch 12/100\n",
      "313/313 [==============================] - 2s 5ms/step - loss: -1960.9553\n",
      "Epoch 13/100\n",
      "313/313 [==============================] - 1s 4ms/step - loss: -2169.7371\n",
      "Epoch 14/100\n",
      "313/313 [==============================] - 1s 4ms/step - loss: -2418.0093\n",
      "Epoch 15/100\n",
      "313/313 [==============================] - 1s 3ms/step - loss: -2677.6712\n",
      "Epoch 16/100\n",
      "313/313 [==============================] - 1s 3ms/step - loss: -2957.5163\n",
      "Epoch 17/100\n",
      "313/313 [==============================] - 1s 3ms/step - loss: -3280.9203\n",
      "Epoch 18/100\n",
      "313/313 [==============================] - 1s 3ms/step - loss: -3592.5501\n",
      "Epoch 19/100\n",
      "313/313 [==============================] - 1s 3ms/step - loss: -3960.1137\n",
      "Epoch 20/100\n",
      "313/313 [==============================] - 1s 3ms/step - loss: -4388.3131\n",
      "Epoch 21/100\n",
      "313/313 [==============================] - 1s 3ms/step - loss: -4789.8306\n",
      "Epoch 22/100\n",
      "313/313 [==============================] - 1s 3ms/step - loss: -5228.3841\n",
      "Epoch 23/100\n",
      "313/313 [==============================] - 1s 3ms/step - loss: -5806.0619\n",
      "Epoch 24/100\n",
      "313/313 [==============================] - 1s 3ms/step - loss: -6445.8690\n",
      "Epoch 25/100\n",
      "313/313 [==============================] - 1s 3ms/step - loss: -7043.3211\n",
      "Epoch 26/100\n",
      "313/313 [==============================] - 1s 3ms/step - loss: -7833.1842\n",
      "Epoch 27/100\n",
      "313/313 [==============================] - 1s 3ms/step - loss: -8696.1144\n",
      "Epoch 28/100\n",
      "313/313 [==============================] - 1s 3ms/step - loss: -9633.8897\n",
      "Epoch 29/100\n",
      "313/313 [==============================] - 1s 3ms/step - loss: -10842.5696\n",
      "Epoch 30/100\n",
      "313/313 [==============================] - 1s 4ms/step - loss: -12252.9945\n",
      "Epoch 31/100\n",
      "313/313 [==============================] - 1s 4ms/step - loss: -13965.1739\n",
      "Epoch 32/100\n",
      "313/313 [==============================] - 1s 4ms/step - loss: -16126.3124\n",
      "Epoch 33/100\n",
      "313/313 [==============================] - 1s 4ms/step - loss: -18627.5018\n",
      "Epoch 34/100\n",
      "313/313 [==============================] - 1s 4ms/step - loss: -22185.0692\n",
      "Epoch 35/100\n",
      "313/313 [==============================] - 1s 4ms/step - loss: -26529.4407\n",
      "Epoch 36/100\n",
      "313/313 [==============================] - 2s 5ms/step - loss: -32012.1038\n",
      "Epoch 37/100\n",
      "313/313 [==============================] - 1s 5ms/step - loss: -39843.0245\n",
      "Epoch 38/100\n",
      "313/313 [==============================] - 1s 4ms/step - loss: -49925.3832\n",
      "Epoch 39/100\n",
      "313/313 [==============================] - 1s 5ms/step - loss: -63407.7833\n",
      "Epoch 40/100\n",
      "313/313 [==============================] - 1s 4ms/step - loss: -81150.5947\n",
      "Epoch 41/100\n",
      "313/313 [==============================] - 1s 4ms/step - loss: -105261.9180\n",
      "Epoch 42/100\n",
      "313/313 [==============================] - 1s 4ms/step - loss: -137476.8740\n",
      "Epoch 43/100\n",
      "313/313 [==============================] - 1s 4ms/step - loss: -178705.0003A: 1s - loss: -168055 - ETA: 0s - loss\n",
      "Epoch 44/100\n",
      "313/313 [==============================] - 1s 4ms/step - loss: -236416.6827\n",
      "Epoch 45/100\n",
      "313/313 [==============================] - 1s 4ms/step - loss: -307885.0718\n",
      "Epoch 46/100\n",
      "313/313 [==============================] - 1s 4ms/step - loss: -406804.3403\n",
      "Epoch 47/100\n",
      "313/313 [==============================] - 1s 4ms/step - loss: -528825.9096\n",
      "Epoch 48/100\n",
      "313/313 [==============================] - 1s 3ms/step - loss: -690861.4053\n",
      "Epoch 49/100\n",
      "313/313 [==============================] - 1s 3ms/step - loss: -900482.9656\n",
      "Epoch 50/100\n",
      "313/313 [==============================] - 1s 3ms/step - loss: -1171819.5623\n",
      "Epoch 51/100\n",
      "313/313 [==============================] - 1s 4ms/step - loss: -1506927.0167\n",
      "Epoch 52/100\n",
      "313/313 [==============================] - 1s 3ms/step - loss: -1950726.2687\n",
      "Epoch 53/100\n",
      "313/313 [==============================] - 1s 4ms/step - loss: -2505449.0828\n",
      "Epoch 54/100\n",
      "313/313 [==============================] - 1s 4ms/step - loss: -3186554.8503\n",
      "Epoch 55/100\n",
      "313/313 [==============================] - 1s 4ms/step - loss: -4058549.6799: 0s - loss: -4043374.\n",
      "Epoch 56/100\n",
      "313/313 [==============================] - 1s 4ms/step - loss: -5179009.6003\n",
      "Epoch 57/100\n",
      "313/313 [==============================] - 2s 5ms/step - loss: -6448788.3232\n",
      "Epoch 58/100\n",
      "313/313 [==============================] - 1s 4ms/step - loss: -8160333.0510\n",
      "Epoch 59/100\n",
      "313/313 [==============================] - 1s 4ms/step - loss: -10144887.2357\n",
      "Epoch 60/100\n",
      "313/313 [==============================] - 1s 4ms/step - loss: -12478243.5987\n",
      "Epoch 61/100\n",
      "313/313 [==============================] - 1s 3ms/step - loss: -15710638.2070\n",
      "Epoch 62/100\n",
      "313/313 [==============================] - 1s 4ms/step - loss: -19182063.1083\n",
      "Epoch 63/100\n",
      "313/313 [==============================] - 1s 4ms/step - loss: -23521298.6879\n",
      "Epoch 64/100\n",
      "313/313 [==============================] - 2s 5ms/step - loss: -28966143.9490A: 0s - loss: -28898111.84\n",
      "Epoch 65/100\n",
      "313/313 [==============================] - 1s 5ms/step - loss: -35055711.7643\n",
      "Epoch 66/100\n",
      "313/313 [==============================] - 1s 4ms/step - loss: -42641563.8471A: 0s - loss\n",
      "Epoch 67/100\n",
      "313/313 [==============================] - ETA: 0s - loss: -51697698.610 - 1s 4ms/step - loss: -51718967.4650\n",
      "Epoch 68/100\n",
      "313/313 [==============================] - 1s 4ms/step - loss: -61858550.1401\n",
      "Epoch 69/100\n",
      "313/313 [==============================] - 1s 4ms/step - loss: -74374830.5732\n",
      "Epoch 70/100\n",
      "313/313 [==============================] - 1s 4ms/step - loss: -88732253.7834\n",
      "Epoch 71/100\n",
      "313/313 [==============================] - 1s 4ms/step - loss: -106044530.7006: 0s - loss: -10\n",
      "Epoch 72/100\n",
      "313/313 [==============================] - 1s 4ms/step - loss: -125388463.4650\n",
      "Epoch 73/100\n",
      "313/313 [==============================] - 1s 4ms/step - loss: -148671629.3758\n",
      "Epoch 74/100\n",
      "313/313 [==============================] - 1s 4ms/step - loss: -174690874.8535\n",
      "Epoch 75/100\n",
      "313/313 [==============================] - 1s 4ms/step - loss: -207381309.3503\n",
      "Epoch 76/100\n",
      "313/313 [==============================] - 1s 4ms/step - loss: -243883475.0573\n",
      "Epoch 77/100\n",
      "313/313 [==============================] - ETA: 0s - loss: -282490999.19 - 1s 4ms/step - loss: -282687276.7389\n",
      "Epoch 78/100\n",
      "313/313 [==============================] - 1s 4ms/step - loss: -330308005.9108\n",
      "Epoch 79/100\n",
      "313/313 [==============================] - 1s 4ms/step - loss: -384247740.9427\n",
      "Epoch 80/100\n",
      "313/313 [==============================] - 1s 4ms/step - loss: -444228461.4522\n",
      "Epoch 81/100\n",
      "313/313 [==============================] - 1s 4ms/step - loss: -516380931.4650\n",
      "Epoch 82/100\n",
      "313/313 [==============================] - 1s 4ms/step - loss: -598537327.6943\n",
      "Epoch 83/100\n",
      "313/313 [==============================] - 1s 4ms/step - loss: -685756462.8790\n",
      "Epoch 84/100\n",
      "313/313 [==============================] - 1s 4ms/step - loss: -784974395.5159\n",
      "Epoch 85/100\n",
      "313/313 [==============================] - 1s 4ms/step - loss: -905308635.5159\n",
      "Epoch 86/100\n",
      "313/313 [==============================] - 1s 4ms/step - loss: -1032886141.5541\n",
      "Epoch 87/100\n",
      "313/313 [==============================] - 1s 4ms/step - loss: -1180901470.1656\n",
      "Epoch 88/100\n",
      "313/313 [==============================] - 1s 4ms/step - loss: -1329064443.5159\n",
      "Epoch 89/100\n",
      "313/313 [==============================] - 1s 4ms/step - loss: -1533803348.3822\n",
      "Epoch 90/100\n"
     ]
    },
    {
     "name": "stdout",
     "output_type": "stream",
     "text": [
      "313/313 [==============================] - 1s 3ms/step - loss: -1727484378.0892\n",
      "Epoch 91/100\n",
      "313/313 [==============================] - 1s 4ms/step - loss: -1943020663.0318\n",
      "Epoch 92/100\n",
      "313/313 [==============================] - 1s 4ms/step - loss: -2210824122.7006\n",
      "Epoch 93/100\n",
      "313/313 [==============================] - 1s 4ms/step - loss: -2503444449.8344\n",
      "Epoch 94/100\n",
      "313/313 [==============================] - 1s 4ms/step - loss: -2809137446.3185\n",
      "Epoch 95/100\n",
      "313/313 [==============================] - 1s 4ms/step - loss: -3144036955.3121\n",
      "Epoch 96/100\n",
      "313/313 [==============================] - 1s 4ms/step - loss: -3534188511.3885\n",
      "Epoch 97/100\n",
      "313/313 [==============================] - 1s 4ms/step - loss: -3949128848.3057\n",
      "Epoch 98/100\n",
      "313/313 [==============================] - 1s 4ms/step - loss: -4403237633.6306\n",
      "Epoch 99/100\n",
      "313/313 [==============================] - 1s 4ms/step - loss: -4937098349.2484\n",
      "Epoch 100/100\n",
      "313/313 [==============================] - 1s 4ms/step - loss: -5564830945.0191\n"
     ]
    },
    {
     "data": {
      "text/plain": [
       "<tensorflow.python.keras.callbacks.History at 0x17133ce6f88>"
      ]
     },
     "execution_count": 17,
     "metadata": {},
     "output_type": "execute_result"
    }
   ],
   "source": [
    "# fit the model\n",
    "autoencoder.fit(data['images'], data['images'], epochs=100)"
   ]
  },
  {
   "cell_type": "markdown",
   "metadata": {},
   "source": [
    "<b> Calculate and store the output of the encoding stage for the first five samples </b>"
   ]
  },
  {
   "cell_type": "code",
   "execution_count": 18,
   "metadata": {},
   "outputs": [],
   "source": [
    "encoder_output = Model(input_layer, encoding_stage).predict(data['images'][:5])"
   ]
  },
  {
   "cell_type": "markdown",
   "metadata": {},
   "source": [
    "<b> Reshape the encoder output to 10 x 10 (10 x 10 = 100) pixels and multiply by 255 </b>"
   ]
  },
  {
   "cell_type": "code",
   "execution_count": 19,
   "metadata": {},
   "outputs": [],
   "source": [
    "encoder_output = encoder_output.reshape((-1, 10, 10)) * 255"
   ]
  },
  {
   "cell_type": "markdown",
   "metadata": {},
   "source": [
    "<b> Calculate and store the output of the decoding stage for the first five samples </b>"
   ]
  },
  {
   "cell_type": "code",
   "execution_count": 20,
   "metadata": {},
   "outputs": [],
   "source": [
    "decoder_output = autoencoder.predict(data['images'][:5])"
   ]
  },
  {
   "cell_type": "markdown",
   "metadata": {},
   "source": [
    "<b> Reshape the output of the decoder to 28 x 28 and multiply by 255 </b>"
   ]
  },
  {
   "cell_type": "code",
   "execution_count": 21,
   "metadata": {},
   "outputs": [],
   "source": [
    "decoder_output = decoder_output.reshape((-1, 28, 28)) * 255"
   ]
  },
  {
   "cell_type": "markdown",
   "metadata": {},
   "source": [
    "<b> Plot the original image, the encoder output, and the decoder </b>"
   ]
  },
  {
   "cell_type": "code",
   "execution_count": 22,
   "metadata": {},
   "outputs": [
    {
     "data": {
      "image/png": "[encoded data removed]",
      "text/plain": [
       "<Figure size 720x504 with 15 Axes>"
      ]
     },
     "metadata": {
      "needs_background": "light"
     },
     "output_type": "display_data"
    }
   ],
   "source": [
    "# reshape the original images\n",
    "images = data['images'].reshape((-1, 28, 28))\n",
    "plt.figure(figsize=(10, 7))\n",
    "for i in range(5):\n",
    "    # plot original image\n",
    "    plt.subplot(3, 5, i+1)\n",
    "    plt.imshow(images[i], cmap='gray')\n",
    "    plt.axis('off')\n",
    "    # plot the encoder output\n",
    "    plt.subplot(3, 5, i+6)\n",
    "    plt.imshow(encoder_output[i], cmap='gray')\n",
    "    plt.axis('off')\n",
    "    # plot the decoder output\n",
    "    plt.subplot(3, 5, i+11)\n",
    "    plt.imshow(decoder_output[i], cmap='gray')\n",
    "    plt.axis('off')"
   ]
  },
  {
   "cell_type": "markdown",
   "metadata": {},
   "source": [
    "# MNIST Convolutional Autoencoder"
   ]
  },
  {
   "cell_type": "markdown",
   "metadata": {},
   "source": [
    "<b> Import pickle, numpy, and matplotlib, as well as the Model class, from keras.models, and import Input, Conv2D, MaxPooling2D, and UpSampling2D from keras.layers </b>"
   ]
  },
  {
   "cell_type": "code",
   "execution_count": 23,
   "metadata": {},
   "outputs": [],
   "source": [
    "import pickle\n",
    "import numpy as np\n",
    "import matplotlib.pyplot as plt\n",
    "%matplotlib inline\n",
    "from keras.models import Model\n",
    "from keras.layers import Input, Conv2D, MaxPooling2D, UpSampling2D"
   ]
  },
  {
   "cell_type": "markdown",
   "metadata": {},
   "source": [
    "<b> Load the mnist.pkl file </b>"
   ]
  },
  {
   "cell_type": "code",
   "execution_count": 24,
   "metadata": {},
   "outputs": [],
   "source": [
    "with open('datasets/mnist.pkl', 'rb') as f:\n",
    "    images = pickle.load(f)['images']"
   ]
  },
  {
   "cell_type": "markdown",
   "metadata": {},
   "source": [
    "<b> Rescale the images to have values between 0 and 1 </b>"
   ]
  },
  {
   "cell_type": "code",
   "execution_count": 25,
   "metadata": {},
   "outputs": [],
   "source": [
    "images = images / 255"
   ]
  },
  {
   "cell_type": "markdown",
   "metadata": {},
   "source": [
    "<b> Reshape the images to have a shape of 28 x 28 x 1 </b>"
   ]
  },
  {
   "cell_type": "code",
   "execution_count": 26,
   "metadata": {},
   "outputs": [],
   "source": [
    "images = images.reshape((-1, 28, 28, 1))"
   ]
  },
  {
   "cell_type": "markdown",
   "metadata": {},
   "source": [
    "<b> Define an input layer. We will use the same shape input as an image </b>"
   ]
  },
  {
   "cell_type": "code",
   "execution_count": 27,
   "metadata": {},
   "outputs": [],
   "source": [
    "input_layer = Input(shape=(28, 28, 1))"
   ]
  },
  {
   "cell_type": "markdown",
   "metadata": {},
   "source": [
    "<b> Add a convolutional stage, with 16 layers or filters, a 3 x 3 weight matrix, a ReLU activation function, and using the same padding, which means the output has the same length as the input image </b>"
   ]
  },
  {
   "cell_type": "code",
   "execution_count": 28,
   "metadata": {},
   "outputs": [],
   "source": [
    "hidden_encoding = Conv2D(16,\n",
    "                        (3, 3),\n",
    "                        activation='relu',\n",
    "                        padding='same',)(input_layer)"
   ]
  },
  {
   "cell_type": "markdown",
   "metadata": {},
   "source": [
    "<b> Add a max pooling layer to the encoder with a 2 x 2 kernel </b>"
   ]
  },
  {
   "cell_type": "code",
   "execution_count": 29,
   "metadata": {},
   "outputs": [],
   "source": [
    "encoded = MaxPooling2D((2, 2))(hidden_encoding)"
   ]
  },
  {
   "cell_type": "markdown",
   "metadata": {},
   "source": [
    "<b> Add a decoding convolutional layer </b>"
   ]
  },
  {
   "cell_type": "code",
   "execution_count": 30,
   "metadata": {},
   "outputs": [],
   "source": [
    "hidden_decoding = Conv2D(16, \n",
    "                        (3, 3),\n",
    "                        activation='relu',\n",
    "                        padding='same',)(encoded)"
   ]
  },
  {
   "cell_type": "markdown",
   "metadata": {},
   "source": [
    "<b> Add an upsampling layer </b>"
   ]
  },
  {
   "cell_type": "code",
   "execution_count": 31,
   "metadata": {},
   "outputs": [],
   "source": [
    "upsample_decoding = UpSampling2D((2, 2))(hidden_decoding)"
   ]
  },
  {
   "cell_type": "markdown",
   "metadata": {},
   "source": [
    "<b> Add the final convolutional stage using one layer as per the initial image depth </b>"
   ]
  },
  {
   "cell_type": "code",
   "execution_count": 32,
   "metadata": {},
   "outputs": [],
   "source": [
    "decoded = Conv2D(1,\n",
    "                (3, 3),\n",
    "                activation='relu',\n",
    "                padding='same',)(upsample_decoding)"
   ]
  },
  {
   "cell_type": "markdown",
   "metadata": {},
   "source": [
    "<b> Construct the model by passing the first and last layers of the network to the Model class </b>"
   ]
  },
  {
   "cell_type": "code",
   "execution_count": 33,
   "metadata": {},
   "outputs": [],
   "source": [
    "autoencoder = Model(input_layer, decoded)"
   ]
  },
  {
   "cell_type": "markdown",
   "metadata": {},
   "source": [
    "<b> Display the structure of the model </b>"
   ]
  },
  {
   "cell_type": "code",
   "execution_count": 34,
   "metadata": {},
   "outputs": [
    {
     "name": "stdout",
     "output_type": "stream",
     "text": [
      "Model: \"model_2\"\n",
      "_________________________________________________________________\n",
      "Layer (type)                 Output Shape              Param #   \n",
      "=================================================================\n",
      "input_2 (InputLayer)         [(None, 28, 28, 1)]       0         \n",
      "_________________________________________________________________\n",
      "conv2d (Conv2D)              (None, 28, 28, 16)        160       \n",
      "_________________________________________________________________\n",
      "max_pooling2d (MaxPooling2D) (None, 14, 14, 16)        0         \n",
      "_________________________________________________________________\n",
      "conv2d_1 (Conv2D)            (None, 14, 14, 16)        2320      \n",
      "_________________________________________________________________\n",
      "up_sampling2d (UpSampling2D) (None, 28, 28, 16)        0         \n",
      "_________________________________________________________________\n",
      "conv2d_2 (Conv2D)            (None, 28, 28, 1)         145       \n",
      "=================================================================\n",
      "Total params: 2,625\n",
      "Trainable params: 2,625\n",
      "Non-trainable params: 0\n",
      "_________________________________________________________________\n"
     ]
    }
   ],
   "source": [
    "autoencoder.summary()"
   ]
  },
  {
   "cell_type": "markdown",
   "metadata": {},
   "source": [
    "<b> Compile the autoencoder using a binary cross-entropy loss function and adadelta gradient descent </b>"
   ]
  },
  {
   "cell_type": "code",
   "execution_count": 35,
   "metadata": {},
   "outputs": [],
   "source": [
    "autoencoder.compile(loss='binary_crossentropy', optimizer='adadelta')"
   ]
  },
  {
   "cell_type": "markdown",
   "metadata": {},
   "source": [
    "<b> Let's fit the model; again, we pass the images as the training data and as the desired output </b>"
   ]
  },
  {
   "cell_type": "code",
   "execution_count": 36,
   "metadata": {},
   "outputs": [
    {
     "name": "stdout",
     "output_type": "stream",
     "text": [
      "Epoch 1/20\n",
      "313/313 [==============================] - 17s 53ms/step - loss: 0.3632\n",
      "Epoch 2/20\n",
      "313/313 [==============================] - 18s 59ms/step - loss: 0.3446\n",
      "Epoch 3/20\n",
      "313/313 [==============================] - 21s 67ms/step - loss: 0.3319\n",
      "Epoch 4/20\n",
      "313/313 [==============================] - 23s 72ms/step - loss: 0.3183\n",
      "Epoch 5/20\n",
      "313/313 [==============================] - 27s 86ms/step - loss: 0.3015\n",
      "Epoch 6/20\n",
      "313/313 [==============================] - 26s 83ms/step - loss: 0.2868\n",
      "Epoch 7/20\n",
      "313/313 [==============================] - 19s 62ms/step - loss: 0.2779\n",
      "Epoch 8/20\n",
      "313/313 [==============================] - 18s 59ms/step - loss: 0.2670- ETA: 1s - loss: 0.\n",
      "Epoch 9/20\n",
      "313/313 [==============================] - 19s 62ms/step - loss: 0.2550 0s - lo\n",
      "Epoch 10/20\n",
      "313/313 [==============================] - 19s 60ms/step - loss: 0.2453 0s - l\n",
      "Epoch 11/20\n",
      "313/313 [==============================] - 18s 58ms/step - loss: 0.2364\n",
      "Epoch 12/20\n",
      "313/313 [==============================] - 18s 59ms/step - loss: 0.2262\n",
      "Epoch 13/20\n",
      "313/313 [==============================] - 18s 59ms/step - loss: 0.2183\n",
      "Epoch 14/20\n",
      "313/313 [==============================] - 18s 58ms/step - loss: 0.2101 \n",
      "Epoch 15/20\n",
      "313/313 [==============================] - 18s 58ms/step - loss: 0.2016\n",
      "Epoch 16/20\n",
      "313/313 [==============================] - 18s 59ms/step - loss: 0.1942\n",
      "Epoch 17/20\n",
      "313/313 [==============================] - 18s 58ms/step - loss: 0.1874\n",
      "Epoch 18/20\n",
      "313/313 [==============================] - 19s 60ms/step - loss: 0.1788\n",
      "Epoch 19/20\n",
      "313/313 [==============================] - 18s 56ms/step - loss: 0.1732\n",
      "Epoch 20/20\n",
      "313/313 [==============================] - 18s 58ms/step - loss: 0.1668\n"
     ]
    },
    {
     "data": {
      "text/plain": [
       "<tensorflow.python.keras.callbacks.History at 0x17136d078c8>"
      ]
     },
     "execution_count": 36,
     "metadata": {},
     "output_type": "execute_result"
    }
   ],
   "source": [
    "autoencoder.fit(images, images, epochs=20)"
   ]
  },
  {
   "cell_type": "markdown",
   "metadata": {},
   "source": [
    "<b> Calculate and store the output of the encoding stage for the first five samples </b>"
   ]
  },
  {
   "cell_type": "code",
   "execution_count": 37,
   "metadata": {},
   "outputs": [],
   "source": [
    "encoder_output = Model(input_layer, encoded).predict(images[:5])"
   ]
  },
  {
   "cell_type": "markdown",
   "metadata": {},
   "source": [
    "<b> Reshape the encoder output for visualization, where each image is X*Y in size </b>"
   ]
  },
  {
   "cell_type": "code",
   "execution_count": 38,
   "metadata": {},
   "outputs": [],
   "source": [
    "encoder_output = encoder_output.reshape((-1, 14 * 14, 16))"
   ]
  },
  {
   "cell_type": "markdown",
   "metadata": {},
   "source": [
    "<b> Get the output of the decoder for the first five images </b>"
   ]
  },
  {
   "cell_type": "code",
   "execution_count": 39,
   "metadata": {},
   "outputs": [],
   "source": [
    "decoder_output = autoencoder.predict(images[:5])"
   ]
  },
  {
   "cell_type": "markdown",
   "metadata": {},
   "source": [
    "<b> Reshape the decoder output to be 28 x 28 in size </b>"
   ]
  },
  {
   "cell_type": "code",
   "execution_count": 40,
   "metadata": {},
   "outputs": [],
   "source": [
    "decoder_output = decoder_output.reshape((-1, 28, 28))"
   ]
  },
  {
   "cell_type": "markdown",
   "metadata": {},
   "source": [
    "<b> Reshape the original images back to be 28 x 28 in size </b>"
   ]
  },
  {
   "cell_type": "code",
   "execution_count": 41,
   "metadata": {},
   "outputs": [],
   "source": [
    "images = images.reshape((-1, 28, 28))"
   ]
  },
  {
   "cell_type": "markdown",
   "metadata": {},
   "source": [
    "<b> Plot the original image, the mean encoder output, and the decoder </b>"
   ]
  },
  {
   "cell_type": "code",
   "execution_count": 42,
   "metadata": {},
   "outputs": [
    {
     "data": {
      "image/png": "[encoded data removed]",
      "text/plain": [
       "<Figure size 720x504 with 15 Axes>"
      ]
     },
     "metadata": {
      "needs_background": "light"
     },
     "output_type": "display_data"
    }
   ],
   "source": [
    "plt.figure(figsize=(10, 7))\n",
    "for i in range(5):\n",
    "    # Plot the original digit images\n",
    "    plt.subplot(3, 5, i + 1)\n",
    "    plt.imshow(images[i], cmap='gray')\n",
    "    plt.axis('off')\n",
    "    # Plot the encoder output\n",
    "    plt.subplot(3, 5, i + 6)\n",
    "    plt.imshow(encoder_output[i], cmap='gray')\n",
    "    plt.axis('off')\n",
    "    # Plot the decoder output\n",
    "    plt.subplot(3, 5, i + 11)\n",
    "    plt.imshow(decoder_output[i], cmap='gray')\n",
    "    plt.axis('off')"
   ]
  }
 ],
 "metadata": {
  "kernelspec": {
   "display_name": "Python 3",
   "language": "python",
   "name": "python3"
  },
  "language_info": {
   "codemirror_mode": {
    "name": "ipython",
    "version": 3
   },
   "file_extension": ".py",
   "mimetype": "text/x-python",
   "name": "python",
   "nbconvert_exporter": "python",
   "pygments_lexer": "ipython3",
   "version": "3.7.7"
  }
 },
 "nbformat": 4,
 "nbformat_minor": 4
}
