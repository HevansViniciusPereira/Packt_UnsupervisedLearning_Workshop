{
 "cells": [
  {
   "cell_type": "markdown",
   "metadata": {},
   "source": [
    "# Setting up the Enviroment"
   ]
  },
  {
   "cell_type": "code",
   "execution_count": 1,
   "metadata": {},
   "outputs": [],
   "source": [
    "# import packages\n",
    "import langdetect\n",
    "import matplotlib.pyplot as plt\n",
    "%matplotlib inline\n",
    "import nltk\n",
    "import numpy as np\n",
    "import pandas as pd\n",
    "import pyLDAvis\n",
    "import pyLDAvis.sklearn\n",
    "import regex\n",
    "import sklearn\n",
    "import warnings\n",
    "warnings.filterwarnings('ignore')"
   ]
  },
  {
   "cell_type": "code",
   "execution_count": 2,
   "metadata": {},
   "outputs": [
    {
     "name": "stderr",
     "output_type": "stream",
     "text": [
      "[nltk_data] Downloading package wordnet to\n",
      "[nltk_data]     C:\\Users\\Hevans\\AppData\\Roaming\\nltk_data...\n",
      "[nltk_data]   Package wordnet is already up-to-date!\n",
      "[nltk_data] Downloading package stopwords to\n",
      "[nltk_data]     C:\\Users\\Hevans\\AppData\\Roaming\\nltk_data...\n",
      "[nltk_data]   Package stopwords is already up-to-date!\n"
     ]
    },
    {
     "data": {
      "text/plain": [
       "True"
      ]
     },
     "execution_count": 2,
     "metadata": {},
     "output_type": "execute_result"
    }
   ],
   "source": [
    "# install to word dictionaries\n",
    "nltk.download('wordnet')\n",
    "nltk.download('stopwords')"
   ]
  },
  {
   "cell_type": "markdown",
   "metadata": {},
   "source": [
    "# Data Loading"
   ]
  },
  {
   "cell_type": "code",
   "execution_count": 3,
   "metadata": {},
   "outputs": [
    {
     "data": {
      "text/html": [
       "<div>\n",
       "<style scoped>\n",
       "    .dataframe tbody tr th:only-of-type {\n",
       "        vertical-align: middle;\n",
       "    }\n",
       "\n",
       "    .dataframe tbody tr th {\n",
       "        vertical-align: top;\n",
       "    }\n",
       "\n",
       "    .dataframe thead th {\n",
       "        text-align: right;\n",
       "    }\n",
       "</style>\n",
       "<table border=\"1\" class=\"dataframe\">\n",
       "  <thead>\n",
       "    <tr style=\"text-align: right;\">\n",
       "      <th></th>\n",
       "      <th>IDLink</th>\n",
       "      <th>Title</th>\n",
       "      <th>Headline</th>\n",
       "      <th>Source</th>\n",
       "      <th>Topic</th>\n",
       "      <th>PublishDate</th>\n",
       "      <th>SentimentTitle</th>\n",
       "      <th>SentimentHeadline</th>\n",
       "      <th>Facebook</th>\n",
       "      <th>GooglePlus</th>\n",
       "      <th>LinkedIn</th>\n",
       "    </tr>\n",
       "  </thead>\n",
       "  <tbody>\n",
       "    <tr>\n",
       "      <th>0</th>\n",
       "      <td>99248.0</td>\n",
       "      <td>Obama Lays Wreath at Arlington National Cemetery</td>\n",
       "      <td>Obama Lays Wreath at Arlington National Cemete...</td>\n",
       "      <td>USA TODAY</td>\n",
       "      <td>obama</td>\n",
       "      <td>2002-04-02 00:00:00</td>\n",
       "      <td>0.000000</td>\n",
       "      <td>-0.053300</td>\n",
       "      <td>-1</td>\n",
       "      <td>-1</td>\n",
       "      <td>-1</td>\n",
       "    </tr>\n",
       "    <tr>\n",
       "      <th>1</th>\n",
       "      <td>10423.0</td>\n",
       "      <td>A Look at the Health of the Chinese Economy</td>\n",
       "      <td>Tim Haywood, investment director business-unit...</td>\n",
       "      <td>Bloomberg</td>\n",
       "      <td>economy</td>\n",
       "      <td>2008-09-20 00:00:00</td>\n",
       "      <td>0.208333</td>\n",
       "      <td>-0.156386</td>\n",
       "      <td>-1</td>\n",
       "      <td>-1</td>\n",
       "      <td>-1</td>\n",
       "    </tr>\n",
       "    <tr>\n",
       "      <th>2</th>\n",
       "      <td>18828.0</td>\n",
       "      <td>Nouriel Roubini: Global Economy Not Back to 2008</td>\n",
       "      <td>Nouriel Roubini, NYU professor and chairman at...</td>\n",
       "      <td>Bloomberg</td>\n",
       "      <td>economy</td>\n",
       "      <td>2012-01-28 00:00:00</td>\n",
       "      <td>-0.425210</td>\n",
       "      <td>0.139754</td>\n",
       "      <td>-1</td>\n",
       "      <td>-1</td>\n",
       "      <td>-1</td>\n",
       "    </tr>\n",
       "    <tr>\n",
       "      <th>3</th>\n",
       "      <td>27788.0</td>\n",
       "      <td>Finland GDP Expands In Q4</td>\n",
       "      <td>Finland's economy expanded marginally in the t...</td>\n",
       "      <td>RTT News</td>\n",
       "      <td>economy</td>\n",
       "      <td>2015-03-01 00:06:00</td>\n",
       "      <td>0.000000</td>\n",
       "      <td>0.026064</td>\n",
       "      <td>-1</td>\n",
       "      <td>-1</td>\n",
       "      <td>-1</td>\n",
       "    </tr>\n",
       "    <tr>\n",
       "      <th>4</th>\n",
       "      <td>27789.0</td>\n",
       "      <td>Tourism, govt spending buoys Thai economy in J...</td>\n",
       "      <td>Tourism and public spending continued to boost...</td>\n",
       "      <td>The Nation - Thailand&amp;#39;s English news</td>\n",
       "      <td>economy</td>\n",
       "      <td>2015-03-01 00:11:00</td>\n",
       "      <td>0.000000</td>\n",
       "      <td>0.141084</td>\n",
       "      <td>-1</td>\n",
       "      <td>-1</td>\n",
       "      <td>-1</td>\n",
       "    </tr>\n",
       "  </tbody>\n",
       "</table>\n",
       "</div>"
      ],
      "text/plain": [
       "    IDLink                                              Title  \\\n",
       "0  99248.0   Obama Lays Wreath at Arlington National Cemetery   \n",
       "1  10423.0        A Look at the Health of the Chinese Economy   \n",
       "2  18828.0   Nouriel Roubini: Global Economy Not Back to 2008   \n",
       "3  27788.0                          Finland GDP Expands In Q4   \n",
       "4  27789.0  Tourism, govt spending buoys Thai economy in J...   \n",
       "\n",
       "                                            Headline  \\\n",
       "0  Obama Lays Wreath at Arlington National Cemete...   \n",
       "1  Tim Haywood, investment director business-unit...   \n",
       "2  Nouriel Roubini, NYU professor and chairman at...   \n",
       "3  Finland's economy expanded marginally in the t...   \n",
       "4  Tourism and public spending continued to boost...   \n",
       "\n",
       "                                     Source    Topic          PublishDate  \\\n",
       "0                                 USA TODAY    obama  2002-04-02 00:00:00   \n",
       "1                                 Bloomberg  economy  2008-09-20 00:00:00   \n",
       "2                                 Bloomberg  economy  2012-01-28 00:00:00   \n",
       "3                                  RTT News  economy  2015-03-01 00:06:00   \n",
       "4  The Nation - Thailand&#39;s English news  economy  2015-03-01 00:11:00   \n",
       "\n",
       "   SentimentTitle  SentimentHeadline  Facebook  GooglePlus  LinkedIn  \n",
       "0        0.000000          -0.053300        -1          -1        -1  \n",
       "1        0.208333          -0.156386        -1          -1        -1  \n",
       "2       -0.425210           0.139754        -1          -1        -1  \n",
       "3        0.000000           0.026064        -1          -1        -1  \n",
       "4        0.000000           0.141084        -1          -1        -1  "
      ]
     },
     "execution_count": 3,
     "metadata": {},
     "output_type": "execute_result"
    }
   ],
   "source": [
    "df = pd.read_csv('datasets/News_Final.csv', header=0)\n",
    "df.head()"
   ]
  },
  {
   "cell_type": "code",
   "execution_count": 4,
   "metadata": {},
   "outputs": [],
   "source": [
    "# defining a function to examine the data\n",
    "def dataframe_quick_look(df, nrows):\n",
    "    print(f\"SHAPE:\\n{df.shape}\\n\")\n",
    "    print(f\"COLUMN NAMES:\\n{df.columns}\\n\")\n",
    "    print(f\"HEAD:\\n{df.head(nrows)}\\n\")"
   ]
  },
  {
   "cell_type": "code",
   "execution_count": 5,
   "metadata": {},
   "outputs": [
    {
     "name": "stdout",
     "output_type": "stream",
     "text": [
      "SHAPE:\n",
      "(93239, 11)\n",
      "\n",
      "COLUMN NAMES:\n",
      "Index(['IDLink', 'Title', 'Headline', 'Source', 'Topic', 'PublishDate',\n",
      "       'SentimentTitle', 'SentimentHeadline', 'Facebook', 'GooglePlus',\n",
      "       'LinkedIn'],\n",
      "      dtype='object')\n",
      "\n",
      "HEAD:\n",
      "    IDLink                                             Title  \\\n",
      "0  99248.0  Obama Lays Wreath at Arlington National Cemetery   \n",
      "1  10423.0       A Look at the Health of the Chinese Economy   \n",
      "\n",
      "                                            Headline     Source    Topic  \\\n",
      "0  Obama Lays Wreath at Arlington National Cemete...  USA TODAY    obama   \n",
      "1  Tim Haywood, investment director business-unit...  Bloomberg  economy   \n",
      "\n",
      "           PublishDate  SentimentTitle  SentimentHeadline  Facebook  \\\n",
      "0  2002-04-02 00:00:00        0.000000          -0.053300        -1   \n",
      "1  2008-09-20 00:00:00        0.208333          -0.156386        -1   \n",
      "\n",
      "   GooglePlus  LinkedIn  \n",
      "0          -1        -1  \n",
      "1          -1        -1  \n",
      "\n"
     ]
    }
   ],
   "source": [
    "# seeing the data\n",
    "dataframe_quick_look(df, nrows=2)"
   ]
  },
  {
   "cell_type": "code",
   "execution_count": 6,
   "metadata": {},
   "outputs": [
    {
     "name": "stdout",
     "output_type": "stream",
     "text": [
      "TOPICS:\n",
      "economy      33928\n",
      "obama        28610\n",
      "microsoft    21858\n",
      "palestine     8843\n",
      "Name: Topic, dtype: int64\n"
     ]
    }
   ],
   "source": [
    "#  print the unique topic values and their number of occurrences\n",
    "print('TOPICS:')\n",
    "print(df['Topic'].value_counts())"
   ]
  },
  {
   "cell_type": "code",
   "execution_count": 7,
   "metadata": {},
   "outputs": [],
   "source": [
    "# extract the headline data and transform the extracted data into a list object\n",
    "raw = df['Headline'].tolist()"
   ]
  },
  {
   "cell_type": "code",
   "execution_count": 8,
   "metadata": {},
   "outputs": [
    {
     "name": "stdout",
     "output_type": "stream",
     "text": [
      "HEADLINES:\n",
      "['Obama Lays Wreath at Arlington National Cemetery. President Barack Obama has laid a wreath at the Tomb of the Unknowns to honor', 'Tim Haywood, investment director business-unit head for fixed income at Gam, discusses the China beige book and the state of the economy.', \"Nouriel Roubini, NYU professor and chairman at Roubini Global Economics, explains why the global economy isn't facing the same conditions\", \"Finland's economy expanded marginally in the three months ended December, after contracting in the previous quarter, preliminary figures from Statistics Finland showed Monday. \", 'Tourism and public spending continued to boost the economy in January, in light of contraction in private consumption and exports, according to the Bank of Thailand data. ']\n",
      "LENGHT:\n",
      "93239\n"
     ]
    }
   ],
   "source": [
    "# Print the first five elements of the list and the list length to confirm that the extraction was successful\n",
    "print(f'HEADLINES:\\n{raw[:5]}')\n",
    "print(f'LENGHT:\\n{len(raw)}')"
   ]
  },
  {
   "cell_type": "markdown",
   "metadata": {},
   "source": [
    "# Cleaning Data Step by Step"
   ]
  },
  {
   "cell_type": "code",
   "execution_count": 9,
   "metadata": {},
   "outputs": [
    {
     "data": {
      "text/plain": [
       "'Over 100 attendees expected to see latest version of Microsoft Dynamics SL and Dynamics GP (PRWeb February 29, 2016) Read the full story at http://www.prweb.com/releases/2016/03/prweb13238571.htm '"
      ]
     },
     "execution_count": 9,
     "metadata": {},
     "output_type": "execute_result"
    }
   ],
   "source": [
    "# Select the sixth headline\n",
    "example = raw[5]\n",
    "example"
   ]
  },
  {
   "cell_type": "code",
   "execution_count": 10,
   "metadata": {},
   "outputs": [],
   "source": [
    "# create a function to detect the language\n",
    "def lang_ident(txt):\n",
    "    try: the_language = langdetect.detect(txt)\n",
    "    except: the_language = 'none'\n",
    "    return the_language"
   ]
  },
  {
   "cell_type": "code",
   "execution_count": 11,
   "metadata": {},
   "outputs": [
    {
     "name": "stdout",
     "output_type": "stream",
     "text": [
      "DETECTED LANGUAGE: en\n"
     ]
    }
   ],
   "source": [
    "# identify the headline language\n",
    "print(f\"DETECTED LANGUAGE: {lang_ident(example)}\")"
   ]
  },
  {
   "cell_type": "code",
   "execution_count": 12,
   "metadata": {},
   "outputs": [
    {
     "name": "stdout",
     "output_type": "stream",
     "text": [
      "['Over', '100', 'attendees', 'expected', 'to', 'see', 'latest', 'version', 'of', 'Microsoft', 'Dynamics', 'SL', 'and', 'Dynamics', 'GP', '(PRWeb', 'February', '29,', '2016)', 'Read', 'the', 'full', 'story', 'at', 'http://www.prweb.com/releases/2016/03/prweb13238571.htm', '']\n"
     ]
    }
   ],
   "source": [
    "# Split the string containing the headline into pieces, called tokens, using the white spaces\n",
    "example = example.split(' ')\n",
    "print(example)"
   ]
  },
  {
   "cell_type": "code",
   "execution_count": 13,
   "metadata": {},
   "outputs": [
    {
     "name": "stdout",
     "output_type": "stream",
     "text": [
      "['Over', '100', 'attendees', 'expected', 'to', 'see', 'latest', 'version', 'of', 'Microsoft', 'Dynamics', 'SL', 'and', 'Dynamics', 'GP', '(PRWeb', 'February', '29,', '2016)', 'Read', 'the', 'full', 'story', 'at', 'URL', '']\n"
     ]
    }
   ],
   "source": [
    "# Identify all URLs and replace the URLs with the 'URL' string\n",
    "example = ['URL' if bool(regex.search('http[s]?://', i)) else i for i in example]\n",
    "print(example)"
   ]
  },
  {
   "cell_type": "code",
   "execution_count": 14,
   "metadata": {},
   "outputs": [
    {
     "name": "stdout",
     "output_type": "stream",
     "text": [
      "['Over', '100', 'attendees', 'expected', 'to', 'see', 'latest', 'version', 'of', 'Microsoft', 'Dynamics', 'SL', 'and', 'Dynamics', 'GP', '(PRWeb', 'February', '29,', '2016)', 'Read', 'the', 'full', 'story', 'at', 'URL', '']\n"
     ]
    }
   ],
   "source": [
    "# replace all punctuation and newline symbols (\\n) with empty strings\n",
    "example = [regex.sub('^\\\\w\\\\s', '', i) for i in example]\n",
    "print(example)"
   ]
  },
  {
   "cell_type": "code",
   "execution_count": 15,
   "metadata": {},
   "outputs": [
    {
     "name": "stdout",
     "output_type": "stream",
     "text": [
      "['Over', '', 'attendees', 'expected', 'to', 'see', 'latest', 'version', 'of', 'Microsoft', 'Dynamics', 'SL', 'and', 'Dynamics', 'GP', '(PRWeb', 'February', '29,', '2016)', 'Read', 'the', 'full', 'story', 'at', 'URL', '']\n"
     ]
    }
   ],
   "source": [
    "# Replace all numbers with empty strings\n",
    "example = [regex.sub('^[0-9]*$', '', i) for i in example]\n",
    "print(example)"
   ]
  },
  {
   "cell_type": "code",
   "execution_count": 16,
   "metadata": {},
   "outputs": [
    {
     "name": "stdout",
     "output_type": "stream",
     "text": [
      "['over', '', 'attendees', 'expected', 'to', 'see', 'latest', 'version', 'of', 'microsoft', 'dynamics', 'sl', 'and', 'dynamics', 'gp', '(prweb', 'february', '29,', '2016)', 'read', 'the', 'full', 'story', 'at', 'URL', '']\n"
     ]
    }
   ],
   "source": [
    "# Change all uppercase letters to lowercase\n",
    "example = [i.lower() if i not in ['URL'] else i for i in example]\n",
    "print(example)"
   ]
  },
  {
   "cell_type": "code",
   "execution_count": 17,
   "metadata": {},
   "outputs": [
    {
     "name": "stdout",
     "output_type": "stream",
     "text": [
      "['over', 'attendees', 'expected', 'to', 'see', 'latest', 'version', 'of', 'microsoft', 'dynamics', 'sl', 'and', 'dynamics', 'gp', '(prweb', 'february', '29,', '2016)', 'read', 'the', 'full', 'story', 'at']\n"
     ]
    }
   ],
   "source": [
    "# remove the 'URL' string\n",
    "example = [i for i in example if i not in ['URL', '']]\n",
    "print(example)"
   ]
  },
  {
   "cell_type": "code",
   "execution_count": 18,
   "metadata": {},
   "outputs": [
    {
     "name": "stdout",
     "output_type": "stream",
     "text": [
      "['i', 'me', 'my', 'myself', 'we', 'our', 'ours', 'ourselves', 'you', 'youre', 'youve', 'youll', 'youd', 'your', 'yours', 'yourself', 'yourselves', 'he', 'him', 'his', 'himself', 'she', 'shes', 'her', 'hers', 'herself', 'it', 'its', 'its', 'itself', 'they', 'them', 'their', 'theirs', 'themselves', 'what', 'which', 'who', 'whom', 'this', 'that', 'thatll', 'these', 'those', 'am', 'is', 'are', 'was', 'were', 'be', 'been', 'being', 'have', 'has', 'had', 'having', 'do', 'does', 'did', 'doing', 'a', 'an', 'the', 'and', 'but', 'if', 'or', 'because', 'as', 'until', 'while', 'of', 'at', 'by', 'for', 'with', 'about', 'against', 'between', 'into', 'through', 'during', 'before', 'after', 'above', 'below', 'to', 'from', 'up', 'down', 'in', 'out', 'on', 'off', 'over', 'under', 'again', 'further', 'then', 'once', 'here', 'there', 'when', 'where', 'why', 'how', 'all', 'any', 'both', 'each', 'few', 'more', 'most', 'other', 'some', 'such', 'no', 'nor', 'not', 'only', 'own', 'same', 'so', 'than', 'too', 'very', 's', 't', 'can', 'will', 'just', 'don', 'dont', 'should', 'shouldve', 'now', 'd', 'll', 'm', 'o', 're', 've', 'y', 'ain', 'aren', 'arent', 'couldn', 'couldnt', 'didn', 'didnt', 'doesn', 'doesnt', 'hadn', 'hadnt', 'hasn', 'hasnt', 'haven', 'havent', 'isn', 'isnt', 'ma', 'mightn', 'mightnt', 'mustn', 'mustnt', 'needn', 'neednt', 'shan', 'shant', 'shouldn', 'shouldnt', 'wasn', 'wasnt', 'weren', 'werent', 'won', 'wont', 'wouldn', 'wouldnt']\n"
     ]
    }
   ],
   "source": [
    "# Load in the stopwords dictionary from nltk\n",
    "list_stop_words = nltk.corpus.stopwords.words('english')\n",
    "list_stop_words = [regex.sub('[^\\\\w\\\\s]', '', i) for i in list_stop_words]\n",
    "print(list_stop_words)"
   ]
  },
  {
   "cell_type": "code",
   "execution_count": 19,
   "metadata": {},
   "outputs": [
    {
     "name": "stdout",
     "output_type": "stream",
     "text": [
      "['attendees', 'expected', 'see', 'latest', 'version', 'microsoft', 'dynamics', 'sl', 'dynamics', 'gp', '(prweb', 'february', '29,', '2016)', 'read', 'full', 'story']\n"
     ]
    }
   ],
   "source": [
    "# remove all stop words from the headline\n",
    "example = [i for i in example if i not in list_stop_words]\n",
    "print(example)"
   ]
  },
  {
   "cell_type": "code",
   "execution_count": 20,
   "metadata": {},
   "outputs": [],
   "source": [
    "# create a lemmatization function\n",
    "def do_lemmatizing(wrd):\n",
    "    out = nltk.corpus.wordnet.morphy(wrd)\n",
    "    return (wrd if out is None else out)"
   ]
  },
  {
   "cell_type": "markdown",
   "metadata": {},
   "source": [
    "The morphy function takes each individual word in a text and returns its standard form if it recognizes it."
   ]
  },
  {
   "cell_type": "code",
   "execution_count": 21,
   "metadata": {},
   "outputs": [
    {
     "name": "stdout",
     "output_type": "stream",
     "text": [
      "['attendee', 'expect', 'see', 'latest', 'version', 'microsoft', 'dynamics', 'sl', 'dynamics', 'gp', '(prweb', 'february', '29,', '2016)', 'read', 'full', 'story']\n"
     ]
    }
   ],
   "source": [
    "# perform lemmatization\n",
    "example = [do_lemmatizing(i) for i in example]\n",
    "print(example)"
   ]
  },
  {
   "cell_type": "code",
   "execution_count": 22,
   "metadata": {},
   "outputs": [
    {
     "name": "stdout",
     "output_type": "stream",
     "text": [
      "['attendee', 'expect', 'latest', 'version', 'microsoft', 'dynamics', 'dynamics', '(prweb', 'february', '2016)', 'story']\n"
     ]
    }
   ],
   "source": [
    "# Remove all words with a length of four or less from the list of tokens\n",
    "example = [i for i in example if len(i) >= 5]\n",
    "print(example)"
   ]
  },
  {
   "cell_type": "markdown",
   "metadata": {},
   "source": [
    "The assumption around this step is that short words are, in general, more common and therefore will not drive the types of insights we are looking to extract from the topic models. Note that removing words of certain lengths is not a technique that should be used all the time; it is for specific cases only. For example, short words can sometimes be very indicative of topics such as in the case of identifying animals (for example, dog, cat, bird)."
   ]
  },
  {
   "cell_type": "markdown",
   "metadata": {},
   "source": [
    "# Complete Data Cleaning"
   ]
  },
  {
   "cell_type": "code",
   "execution_count": 23,
   "metadata": {},
   "outputs": [],
   "source": [
    "# Define a function that contains all the individual steps of the cleaning process\n",
    "def headline_cleaning(txt):\n",
    "    \n",
    "    # identify the language\n",
    "    lg = lang_ident(txt)\n",
    "    if lg != 'en':\n",
    "        return None\n",
    "    \n",
    "    # split the string\n",
    "    out = txt.split(' ')\n",
    "    \n",
    "    # identify urls and replace by 'URL'\n",
    "    out = ['URL' if bool(regex.search('http[s]?://', i)) else i for i in out]\n",
    "    \n",
    "    # remove ponctuation\n",
    "    out = [regex.sub('^\\\\w\\\\s', '', i) for i in out]\n",
    "    \n",
    "    # remove numbers\n",
    "    out = [regex.sub('^[0-9]*$', '', i) for i in out]\n",
    "    \n",
    "    # convert to lowercase\n",
    "    out = [i.lower() if i not in ['URL'] else i for i in out]\n",
    "    \n",
    "    #remove 'URL'\n",
    "    out = [i for i in out if i not in ['URL', '']]\n",
    "    \n",
    "    # remove stopwords\n",
    "    list_stop_words = nltk.corpus.stopwords.words(\"english\")\n",
    "    list_stop_words = [regex.sub(\"[^\\\\w\\\\s]\", \"\", i) for i in list_stop_words]\n",
    "    \n",
    "    out = [i for i in out if i not in list_stop_words]\n",
    "    \n",
    "    # lemmatizing\n",
    "    out = [do_lemmatizing(i) for i in out]\n",
    "    \n",
    "    # remove words if less than 5 characters\n",
    "    out = [i for i in out if len(i) >= 5]\n",
    "    \n",
    "    return out"
   ]
  },
  {
   "cell_type": "code",
   "execution_count": 24,
   "metadata": {},
   "outputs": [],
   "source": [
    "# import package\n",
    "from time import time"
   ]
  },
  {
   "cell_type": "code",
   "execution_count": 25,
   "metadata": {},
   "outputs": [
    {
     "name": "stdout",
     "output_type": "stream",
     "text": [
      "904.2484571933746\n"
     ]
    }
   ],
   "source": [
    "# Execute the function on each headline\n",
    "tick = time()\n",
    "clean = list(map(headline_cleaning, raw))\n",
    "print(time() - tick)"
   ]
  },
  {
   "cell_type": "code",
   "execution_count": 26,
   "metadata": {},
   "outputs": [],
   "source": [
    "# remove all None types\n",
    "clean = list(filter(None.__ne__, clean))"
   ]
  },
  {
   "cell_type": "code",
   "execution_count": 27,
   "metadata": {},
   "outputs": [
    {
     "name": "stdout",
     "output_type": "stream",
     "text": [
      "HEADLINES:\n",
      "[['obama', 'wreath', 'arlington', 'national', 'cemetery.', 'president', 'barack', 'obama', 'wreath', 'unknown', 'honor'], ['haywood,', 'investment', 'director', 'business-unit', 'income', 'discus', 'china', 'beige', 'state', 'economy.'], ['nouriel', 'roubini,', 'professor', 'chairman', 'roubini', 'global', 'economics,', 'explain', 'global', 'economy', \"isn't\", 'facing', 'conditions'], [\"finland's\", 'economy', 'expand', 'marginally', 'three', 'month', 'december,', 'contracting', 'previous', 'quarter,', 'preliminary', 'figure', 'statistics', 'finland', 'monday.'], ['tourism', 'public', 'spending', 'continue', 'boost', 'economy', 'january,', 'light', 'contraction', 'private', 'consumption', 'exports,', 'accord', 'thailand', 'data.']]\n",
      "LENGTH:/n92941\n"
     ]
    }
   ],
   "source": [
    "print(f'HEADLINES:\\n{clean[:5]}')\n",
    "print(f'LENGTH:/n{len(clean)}')"
   ]
  },
  {
   "cell_type": "code",
   "execution_count": 28,
   "metadata": {},
   "outputs": [
    {
     "name": "stderr",
     "output_type": "stream",
     "text": [
      "IOPub data rate exceeded.\n",
      "The notebook server will temporarily stop sending output\n",
      "to the client in order to avoid crashing it.\n",
      "To change this limit, set the config variable\n",
      "`--NotebookApp.iopub_data_rate_limit`.\n",
      "\n",
      "Current values:\n",
      "NotebookApp.iopub_data_rate_limit=1000000.0 (bytes/sec)\n",
      "NotebookApp.rate_limit_window=3.0 (secs)\n",
      "\n"
     ]
    }
   ],
   "source": [
    "# For every individual headline, concatenate the tokens using a white space separator\n",
    "clean_sentences = [' '.join(i) for i in clean]\n",
    "print(clean_sentences)"
   ]
  },
  {
   "cell_type": "markdown",
   "metadata": {},
   "source": [
    "# Creating a Bag-of-Words Model Using the Count Vectorizer"
   ]
  },
  {
   "cell_type": "code",
   "execution_count": 29,
   "metadata": {},
   "outputs": [],
   "source": [
    "# define hyperparameters\n",
    "number_words = 10\n",
    "number_docs = 10\n",
    "number_features = 1000"
   ]
  },
  {
   "cell_type": "code",
   "execution_count": 30,
   "metadata": {},
   "outputs": [],
   "source": [
    "# Run the count vectorizer and print the output\n",
    "vectorizer1 = sklearn.feature_extraction.text.CountVectorizer(analyzer='word',\n",
    "                                                             max_df=0.5,\n",
    "                                                             min_df=20,\n",
    "                                                             max_features=number_features)"
   ]
  },
  {
   "cell_type": "code",
   "execution_count": 31,
   "metadata": {},
   "outputs": [
    {
     "name": "stdout",
     "output_type": "stream",
     "text": [
      "  (0, 577)\t2\n",
      "  (0, 560)\t1\n",
      "  (0, 651)\t1\n",
      "  (0, 91)\t1\n"
     ]
    }
   ],
   "source": [
    "clean_vec1 = vectorizer1.fit_transform(clean_sentences)\n",
    "print(clean_vec1[0])"
   ]
  },
  {
   "cell_type": "code",
   "execution_count": 32,
   "metadata": {},
   "outputs": [],
   "source": [
    "# Extract the feature names and the words from the vectorizer\n",
    "feature_names_vec1 = vectorizer1.get_feature_names()"
   ]
  },
  {
   "cell_type": "markdown",
   "metadata": {},
   "source": [
    "# Selecting the Number of Topics"
   ]
  },
  {
   "cell_type": "code",
   "execution_count": 36,
   "metadata": {},
   "outputs": [],
   "source": [
    "# Define a function that fits an LDA model on various numbers of topics and computes the perplexity score\n",
    "def perplexity_by_ntopic(data, ntopics):\n",
    "    output_dict = {\"Number Of Topics\": [], \"Perplexity Score\": []}\n",
    "      \n",
    "    for t in ntopics:\n",
    "        lda = sklearn.decomposition.LatentDirichletAllocation(n_components=t,\n",
    "                                                                  learning_method=\"online\",\n",
    "                                                                  random_state=0)\n",
    "        lda.fit(data)\n",
    "        output_dict[\"Number Of Topics\"].append(t)\n",
    "        output_dict[\"Perplexity Score\"].append(lda.perplexity(data))\n",
    "            \n",
    "        output_df = pd.DataFrame(output_dict)\n",
    "        index_min_perplexity = output_df[\"Perplexity Score\"].idxmin()\n",
    "        output_num_topics = output_df.loc[index_min_perplexity, \"Number Of Topics\"]\n",
    "        \n",
    "    return (output_df, output_num_topics)"
   ]
  },
  {
   "cell_type": "code",
   "execution_count": 37,
   "metadata": {},
   "outputs": [
    {
     "name": "stdout",
     "output_type": "stream",
     "text": [
      "   Number Of Topics  Perplexity Score\n",
      "0                 1        498.001120\n",
      "1                 2        454.336813\n",
      "2                 3        403.147737\n",
      "3                 4        411.871584\n",
      "4                 6        489.659919\n",
      "5                 8        536.254348\n",
      "6                10        560.726469\n"
     ]
    }
   ],
   "source": [
    "# execute the function\n",
    "df_perplexity, optimal_num_topics = perplexity_by_ntopic(clean_vec1, ntopics=[1, 2, 3, 4, 6, 8, 10])\n",
    "print(df_perplexity)"
   ]
  },
  {
   "cell_type": "code",
   "execution_count": 38,
   "metadata": {},
   "outputs": [
    {
     "data": {
      "image/png": "[encoded data removed]",
      "text/plain": [
       "<Figure size 432x288 with 1 Axes>"
      ]
     },
     "metadata": {
      "needs_background": "light"
     },
     "output_type": "display_data"
    }
   ],
   "source": [
    "# Plot the perplexity scores\n",
    "df_perplexity.plot.line('Number Of Topics', 'Perplexity Score')\n",
    "plt.show()"
   ]
  },
  {
   "cell_type": "markdown",
   "metadata": {},
   "source": [
    "The ideal number of topics is 3"
   ]
  },
  {
   "cell_type": "markdown",
   "metadata": {},
   "source": [
    "# Running LDA"
   ]
  },
  {
   "cell_type": "code",
   "execution_count": 41,
   "metadata": {},
   "outputs": [
    {
     "data": {
      "text/plain": [
       "LatentDirichletAllocation(learning_method='online', n_components=3,\n",
       "                          random_state=0)"
      ]
     },
     "execution_count": 41,
     "metadata": {},
     "output_type": "execute_result"
    }
   ],
   "source": [
    "# fit an LDA model using the optimal number of topics\n",
    "lda = sklearn.decomposition.LatentDirichletAllocation(n_components=optimal_num_topics,\n",
    "                                                      learning_method=\"online\",\n",
    "                                                      random_state=0)\n",
    "lda.fit(clean_vec1)"
   ]
  },
  {
   "cell_type": "code",
   "execution_count": 42,
   "metadata": {},
   "outputs": [
    {
     "name": "stdout",
     "output_type": "stream",
     "text": [
      "(92941, 3)\n",
      "[[0.05555566 0.88809796 0.05634638]\n",
      " [0.03886921 0.04007839 0.9210524 ]\n",
      " [0.04168544 0.03949483 0.91881973]\n",
      " ...\n",
      " [0.03984368 0.65212376 0.30803256]\n",
      " [0.06929142 0.86098456 0.06972402]\n",
      " [0.58422459 0.36544718 0.05032823]]\n"
     ]
    }
   ],
   "source": [
    "# Output the topic-document matrix and its shape\n",
    "lda_transform = lda.transform(clean_vec1)\n",
    "print(lda_transform.shape)\n",
    "print(lda_transform)"
   ]
  },
  {
   "cell_type": "code",
   "execution_count": 43,
   "metadata": {},
   "outputs": [
    {
     "name": "stdout",
     "output_type": "stream",
     "text": [
      "(3, 1000)\n",
      "[[2.74769062e+02 1.28199616e+02 1.35811176e+02 ... 2.03949303e+02\n",
      "  7.29348454e+02 4.24095894e+01]\n",
      " [4.39229147e+01 1.25953700e+02 9.72587191e+01 ... 1.84317056e+02\n",
      "  3.50369985e-01 4.24010332e+02]\n",
      " [7.79452059e+02 8.63937850e+01 1.84021260e+02 ... 1.23591530e+02\n",
      "  3.41477499e-01 3.86382460e-01]]\n"
     ]
    }
   ],
   "source": [
    "# Output the word-topic matrix and its shape\n",
    "print(lda.components_.shape)\n",
    "print(lda.components_)"
   ]
  },
  {
   "cell_type": "code",
   "execution_count": 44,
   "metadata": {},
   "outputs": [],
   "source": [
    "# Define a function that formats the two output matrices into easy-to-read tables\n",
    "def get_topics(mod, vec, names, docs, ndocs, nwords):\n",
    "    \n",
    "    # word to topic matrix\n",
    "    W = mod.components_\n",
    "    W_norm = W / W.sum(axis=1)[:, np.newaxis]\n",
    "    \n",
    "    # topic to document matrix\n",
    "    H = mod.transform(vec)\n",
    "    \n",
    "    W_dict = {}\n",
    "    H_dict = {}\n",
    "    \n",
    "    for tpc_idx, tpc_val in enumerate(W_norm):\n",
    "        topic = \"Topic{}\".format(tpc_idx)\n",
    "        \n",
    "        # formatting w\n",
    "        W_indices = tpc_val.argsort()[::-1][:nwords]\n",
    "        W_names_values = [\n",
    "            (round(tpc_val[j], 4), names[j]) \n",
    "            for j in W_indices\n",
    "        ]\n",
    "        W_dict[topic] = W_names_values\n",
    "        \n",
    "        # formatting h\n",
    "        H_indices = H[:, tpc_idx].argsort()[::-1][:ndocs]\n",
    "        H_names_values = [\n",
    "            (round(H[:, tpc_idx][j], 4), docs[j]) \n",
    "            for j in H_indices\n",
    "        ]\n",
    "        H_dict[topic] = H_names_values\n",
    "        \n",
    "    W_df = pd.DataFrame(\n",
    "        W_dict, \n",
    "        index=[\"Word\" + str(i) for i in range(nwords)]\n",
    "    )\n",
    "    H_df = pd.DataFrame(\n",
    "        H_dict,\n",
    "        index=[\"Doc\" + str(i) for i in range(ndocs)]\n",
    "    )\n",
    "        \n",
    "    return (W_df, H_df)"
   ]
  },
  {
   "cell_type": "code",
   "execution_count": 45,
   "metadata": {},
   "outputs": [],
   "source": [
    "# Execute the function\n",
    "W_df, H_df = get_topics(mod=lda,\n",
    "                        vec=clean_vec1,\n",
    "                        names=feature_names_vec1,\n",
    "                        docs=raw,\n",
    "                        ndocs=number_docs,\n",
    "                        nwords=number_words)"
   ]
  },
  {
   "cell_type": "code",
   "execution_count": 46,
   "metadata": {},
   "outputs": [
    {
     "name": "stdout",
     "output_type": "stream",
     "text": [
      "                    Topic0                 Topic1              Topic2\n",
      "Word0  (0.1146, microsoft)        (0.0978, obama)   (0.0949, economy)\n",
      "Word1    (0.0222, windows)    (0.0735, president)  (0.0325, economic)\n",
      "Word2    (0.0207, company)        (0.042, barack)      (0.0172, quot)\n",
      "Word3   (0.0143, announce)         (0.0266, quot)    (0.0168, growth)\n",
      "Word4      (0.0134, today)    (0.0165, palestine)    (0.0139, global)\n",
      "Word5       (0.0123, quot)        (0.0128, state)      (0.011, china)\n",
      "Word6    (0.0096, release)  (0.0128, palestinian)   (0.0102, percent)\n",
      "Word7   (0.0082, business)    (0.012, washington)     (0.0102, world)\n",
      "Word8      (0.008, update)        (0.0109, house)  (0.01, government)\n",
      "Word9      (0.0076, cloud)          (0.01, white)   (0.0096, quarter)\n"
     ]
    }
   ],
   "source": [
    "# Print out the word-topic DataFrame\n",
    "print(W_df)"
   ]
  },
  {
   "cell_type": "code",
   "execution_count": 47,
   "metadata": {},
   "outputs": [
    {
     "name": "stdout",
     "output_type": "stream",
     "text": [
      "                                                 Topic0  \\\n",
      "Doc0  (0.9781, By: Keaton Schmitt The Minnesota Stud...   \n",
      "Doc1  (0.9776, The legal showdown over the Obama adm...   \n",
      "Doc2  (0.9771, On June 5 th , The Palestine Children...   \n",
      "Doc3  (0.9771, Economy Secretary Keith Brown will vi...   \n",
      "Doc4  (0.9769, Microsoft Edge features a hidden menu...   \n",
      "Doc5  (0.9767, Japan’s surprise, albeit modest, meas...   \n",
      "Doc6  (0.9763, In his speech to the nation about the...   \n",
      "Doc7  (0.976, Tilton, New Hampshire (CNN) Jeb Bush s...   \n",
      "Doc8  (0.9759, NEW DELHI: Buoyed by impressive GDP n...   \n",
      "Doc9  (0.9758, The importance of a first good impres...   \n",
      "\n",
      "                                                 Topic1  \\\n",
      "Doc0  (0.9814, PARIS (JTA) \"\"\" French Jews accused t...   \n",
      "Doc1  (0.9793, LACKAWANNA COUNTY -- The race for pre...   \n",
      "Doc2  (0.9793, Horacio Gutierrez, the top lawyer at ...   \n",
      "Doc3  (0.9793, President Barack Obama will announce ...   \n",
      "Doc4  (0.9786, The IMF said Germany's economic growt...   \n",
      "Doc5  (0.9786, Farmers in the largely agrarian econo...   \n",
      "Doc6  (0.9786, After all, Mark Carney, the Governor ...   \n",
      "Doc7  (0.9786, Is the UK economy slowing because of ...   \n",
      "Doc8  (0.9786, China's trade performance has made a ...   \n",
      "Doc9  (0.9777, Since 1991, New York has increased it...   \n",
      "\n",
      "                                                 Topic2  \n",
      "Doc0  (0.9803, The inevitable has happened, with one...  \n",
      "Doc1  (0.9799, As the old adage goes, &quot;it's the...  \n",
      "Doc2  (0.9797, Following a spate of rumours, Microso...  \n",
      "Doc3  (0.9797, Microsoft has published what can only...  \n",
      "Doc4  (0.9795, On Monday, CBO issued a supplemental ...  \n",
      "Doc5  (0.9795, In the case of Microsoft, the leaders...  \n",
      "Doc6  (0.9793, Tech giant Microsoft (MSFT) and chipm...  \n",
      "Doc7  (0.9792, CHANTILLY, Va. \"\"\" President Barack O...  \n",
      "Doc8  (0.9792, Chris Christie boasted that he banned...  \n",
      "Doc9  (0.9787, Budgeting in a massive economy like I...  \n"
     ]
    }
   ],
   "source": [
    "# Print out the topic-document DataFrame\n",
    "print(H_df)"
   ]
  },
  {
   "cell_type": "markdown",
   "metadata": {},
   "source": [
    "# Visualizing LDA"
   ]
  },
  {
   "cell_type": "code",
   "execution_count": 48,
   "metadata": {},
   "outputs": [
    {
     "data": {
      "text/html": [
       "\n",
       "<link rel=\"stylesheet\" type=\"text/css\" href=\"https://cdn.jsdelivr.net/gh/bmabey/pyLDAvis/pyLDAvis/js/ldavis.v1.0.0.css\">\n",
       "\n",
       "\n",
       "<div id=\"ldavis_el969225909293610965616110210\"></div>\n",
       "<script type=\"text/javascript\">\n",
       "\n",
       "var ldavis_el969225909293610965616110210_data = {\"mdsDat\": {\"x\": [0.21145214580425473, 0.06353243351829872, -0.2749845793225536], \"y\": [0.1788405985073541, -0.25698748292610823, 0.07814688441875403], \"topics\": [1, 2, 3], \"cluster\": [1, 1, 1], \"Freq\": [38.40246660621034, 34.47985312302524, 27.11768027076441]}, \"tinfo\": {\"Term\": [\"microsoft\", \"obama\", \"economy\", \"president\", \"barack\", \"economic\", \"windows\", \"company\", \"growth\", \"palestine\", \"obama\", \"president\", \"barack\", \"palestine\", \"palestinian\", \"house\", \"white\", \"administration\", \"visit\", \"trump\", \"washington\", \"state\", \"quot\", \"economy\", \"economic\", \"growth\", \"global\", \"china\", \"percent\", \"quarter\", \"european\", \"expect\", \"britain\", \"government\", \"market\", \"world\", \"quot\", \"microsoft\", \"windows\", \"company\", \"today\", \"update\", \"cloud\", \"surface\", \"software\", \"technology\", \"build\", \"announce\", \"release\", \"quot\", \"business\"], \"Freq\": [25451.0, 30758.0, 26799.0, 23100.0, 13192.0, 9170.0, 4935.0, 4598.0, 4738.0, 5187.0, 30758.095346959835, 23099.900741045265, 13191.40231940357, 5186.777640669487, 4027.11130137218, 3426.233795435103, 3158.851548104919, 3061.7854672372923, 2290.6238207450497, 2138.703529360901, 3778.8522131787427, 4034.1560463522765, 8362.75678984887, 26798.360862436795, 9169.702378471306, 4737.35022251965, 3910.532257595059, 3117.4129875744197, 2882.729883494073, 2717.851337042812, 1974.7087238651268, 2027.8388468870953, 1556.8564975425963, 2824.3906460063677, 2408.5830823773686, 2872.775245820913, 4855.7860905141, 25451.050346699605, 4934.479737013552, 4598.173032882644, 2973.1374543210154, 1780.4759024130033, 1685.3720745764606, 1568.198726911463, 1519.5502955515951, 1436.267855929353, 1449.8268940096834, 3173.1310401494775, 2137.5272424769587, 2736.9022136689064, 1829.383575440555], \"Total\": [25451.0, 30758.0, 26799.0, 23100.0, 13192.0, 9170.0, 4935.0, 4598.0, 4738.0, 5187.0, 30758.787442812983, 23100.59772213297, 13192.089405941053, 5187.4835089161525, 4027.8067118737486, 3426.92731742209, 3159.5445796614517, 3062.4887529796492, 2291.328161402862, 2139.400609026108, 4075.6602138667863, 5189.673715172694, 15955.445094031875, 26799.057537950343, 9170.401428527439, 4738.033835805834, 3911.2614494186687, 3118.1104964219307, 2883.4177429703104, 2718.535422233927, 1975.4375067774874, 2028.6366811004054, 1557.5775041699103, 3342.4828365026337, 2876.803777344807, 4373.387759055847, 15955.445094031875, 25451.721497382787, 4935.145198057798, 4598.876871124211, 2973.9204227173113, 1781.1589478758538, 1686.0462487289942, 1568.8666150843537, 1520.222431692642, 1436.9583594561855, 1450.5331797067165, 3708.9734324621713, 2621.5842928716233, 15955.445094031875, 3310.0529764720304], \"Category\": [\"Default\", \"Default\", \"Default\", \"Default\", \"Default\", \"Default\", \"Default\", \"Default\", \"Default\", \"Default\", \"Topic1\", \"Topic1\", \"Topic1\", \"Topic1\", \"Topic1\", \"Topic1\", \"Topic1\", \"Topic1\", \"Topic1\", \"Topic1\", \"Topic1\", \"Topic1\", \"Topic1\", \"Topic2\", \"Topic2\", \"Topic2\", \"Topic2\", \"Topic2\", \"Topic2\", \"Topic2\", \"Topic2\", \"Topic2\", \"Topic2\", \"Topic2\", \"Topic2\", \"Topic2\", \"Topic2\", \"Topic3\", \"Topic3\", \"Topic3\", \"Topic3\", \"Topic3\", \"Topic3\", \"Topic3\", \"Topic3\", \"Topic3\", \"Topic3\", \"Topic3\", \"Topic3\", \"Topic3\", \"Topic3\"], \"logprob\": [10.0, 9.0, 8.0, 7.0, 6.0, 5.0, 4.0, 3.0, 2.0, 1.0, -2.3246, -2.6109, -3.1712, -4.1046, -4.3577, -4.5193, -4.6005, -4.6317, -4.9219, -4.9905, -4.4213, -4.3559, -3.6269, -2.3547, -3.4271, -4.0875, -4.2793, -4.506, -4.5843, -4.6431, -4.9626, -4.936, -5.2003, -4.6047, -4.764, -4.5877, -4.0628, -2.166, -3.8066, -3.8771, -4.3132, -4.8259, -4.8808, -4.9529, -4.9844, -5.0408, -5.0314, -4.2481, -4.6432, -4.396, -4.7988], \"loglift\": [10.0, 9.0, 8.0, 7.0, 6.0, 5.0, 4.0, 3.0, 2.0, 1.0, 0.957, 0.957, 0.957, 0.9569, 0.9569, 0.9568, 0.9568, 0.9568, 0.9567, 0.9567, 0.8814, 0.7052, 0.311, 1.0648, 1.0647, 1.0647, 1.0646, 1.0646, 1.0646, 1.0645, 1.0644, 1.0644, 1.0643, 0.8964, 0.8872, 0.6445, -0.1248, 1.305, 1.3048, 1.3048, 1.3047, 1.3046, 1.3046, 1.3046, 1.3045, 1.3045, 1.3045, 1.1489, 1.1009, -0.458, 0.712]}, \"token.table\": {\"Topic\": [1, 1, 3, 1, 2, 3, 2, 3, 2, 3, 3, 2, 2, 2, 2, 2, 1, 2, 2, 1, 2, 3, 3, 1, 1, 1, 2, 1, 2, 1, 2, 3, 2, 3, 3, 1, 2, 3, 3, 3, 1, 3, 1, 1, 2, 1, 3, 1, 2, 3], \"Freq\": [0.9998404066042125, 0.14424476468812145, 0.8554927819727277, 0.9999174197575887, 0.9996292292560953, 0.9996324250184857, 0.44712275317642663, 0.5525591321349218, 0.9996438559752115, 0.9993794661743218, 0.9998093292886973, 0.9999562256319348, 0.9999605382409869, 0.9997785266423329, 0.9996861532149462, 0.9999331547067232, 0.1549746177730573, 0.8448809277820729, 0.9997818006705605, 0.9997294026583594, 0.8373876657737936, 0.16268054279042565, 0.9999716523150365, 0.9999743994195335, 0.9999067931656416, 0.9997997143528833, 0.9998551222862768, 0.9999741252525082, 0.9998030475418683, 0.5241470827490845, 0.304347510920669, 0.17154018480022054, 0.1846211854854522, 0.8155373854708612, 0.9998536847713829, 0.7773128372610537, 0.22255734433230465, 0.9994476171039517, 0.9993330638637655, 0.9996905019010326, 0.9998127470729802, 0.9993493293356913, 0.9998567811418767, 0.9272117403562135, 0.07262627021578173, 0.9998276398234868, 0.9997679504833519, 0.20258894221427898, 0.6569278002049926, 0.14062324995686407], \"Term\": [\"administration\", \"announce\", \"announce\", \"barack\", \"britain\", \"build\", \"business\", \"business\", \"china\", \"cloud\", \"company\", \"economic\", \"economy\", \"european\", \"expect\", \"global\", \"government\", \"government\", \"growth\", \"house\", \"market\", \"market\", \"microsoft\", \"obama\", \"palestine\", \"palestinian\", \"percent\", \"president\", \"quarter\", \"quot\", \"quot\", \"quot\", \"release\", \"release\", \"software\", \"state\", \"state\", \"surface\", \"technology\", \"today\", \"trump\", \"update\", \"visit\", \"washington\", \"washington\", \"white\", \"windows\", \"world\", \"world\", \"world\"]}, \"R\": 10, \"lambda.step\": 0.01, \"plot.opts\": {\"xlab\": \"PC1\", \"ylab\": \"PC2\"}, \"topic.order\": [2, 3, 1]};\n",
       "\n",
       "function LDAvis_load_lib(url, callback){\n",
       "  var s = document.createElement('script');\n",
       "  s.src = url;\n",
       "  s.async = true;\n",
       "  s.onreadystatechange = s.onload = callback;\n",
       "  s.onerror = function(){console.warn(\"failed to load library \" + url);};\n",
       "  document.getElementsByTagName(\"head\")[0].appendChild(s);\n",
       "}\n",
       "\n",
       "if(typeof(LDAvis) !== \"undefined\"){\n",
       "   // already loaded: just create the visualization\n",
       "   !function(LDAvis){\n",
       "       new LDAvis(\"#\" + \"ldavis_el969225909293610965616110210\", ldavis_el969225909293610965616110210_data);\n",
       "   }(LDAvis);\n",
       "}else if(typeof define === \"function\" && define.amd){\n",
       "   // require.js is available: use it to load d3/LDAvis\n",
       "   require.config({paths: {d3: \"https://d3js.org/d3.v5\"}});\n",
       "   require([\"d3\"], function(d3){\n",
       "      window.d3 = d3;\n",
       "      LDAvis_load_lib(\"https://cdn.jsdelivr.net/gh/bmabey/pyLDAvis/pyLDAvis/js/ldavis.v3.0.0.js\", function(){\n",
       "        new LDAvis(\"#\" + \"ldavis_el969225909293610965616110210\", ldavis_el969225909293610965616110210_data);\n",
       "      });\n",
       "    });\n",
       "}else{\n",
       "    // require.js not available: dynamically load d3 & LDAvis\n",
       "    LDAvis_load_lib(\"https://d3js.org/d3.v5.js\", function(){\n",
       "         LDAvis_load_lib(\"https://cdn.jsdelivr.net/gh/bmabey/pyLDAvis/pyLDAvis/js/ldavis.v3.0.0.js\", function(){\n",
       "                 new LDAvis(\"#\" + \"ldavis_el969225909293610965616110210\", ldavis_el969225909293610965616110210_data);\n",
       "            })\n",
       "         });\n",
       "}\n",
       "</script>"
      ],
      "text/plain": [
       "<IPython.core.display.HTML object>"
      ]
     },
     "execution_count": 48,
     "metadata": {},
     "output_type": "execute_result"
    }
   ],
   "source": [
    "# Run and display pyLDAvis\n",
    "lda_plot = pyLDAvis.sklearn.prepare(lda, clean_vec1, vectorizer1, R=10)\n",
    "pyLDAvis.display(lda_plot)"
   ]
  },
  {
   "cell_type": "code",
   "execution_count": 51,
   "metadata": {},
   "outputs": [],
   "source": [
    "# Define a function that fits a t-SNE model and then plots the results\n",
    "def plot_tsne(data, threshold):\n",
    "    \n",
    "    # filter data according to threshold\n",
    "    index_meet_threshold = np.amax(data, axis=1) >= threshold\n",
    "    lda_transform_filt = data[index_meet_threshold]\n",
    "    \n",
    "    # fit tsne model\n",
    "    tsne = sklearn.manifold.TSNE(\n",
    "        n_components=2, \n",
    "        verbose=0, \n",
    "        random_state=0, \n",
    "        angle=0.5, \n",
    "        init='pca'\n",
    "    )\n",
    "    tsne_fit = tsne.fit_transform(lda_transform_filt)\n",
    "    \n",
    "    # most probable topic for each headline\n",
    "    most_prob_topic = []\n",
    "    for i in range(tsne_fit.shape[0]):\n",
    "        most_prob_topic.append(lda_transform_filt[i].argmax())\n",
    "    \n",
    "    print(f\"LENGTH:\\n{len(most_prob_topic)}\\n\")\n",
    "\n",
    "    unique, counts = np.unique(\n",
    "        np.array(most_prob_topic), \n",
    "        return_counts=True\n",
    "    )\n",
    "\n",
    "    print(f\"COUNTS:\\n{np.asarray((unique, counts)).T}\\n\")\n",
    "    \n",
    "    # make plot\n",
    "    color_list = ['b', 'g', 'r', 'c', 'm', 'y', 'k']\n",
    "\n",
    "    for i in list(set(most_prob_topic)):\n",
    "        indices = [idx for idx, val in enumerate(most_prob_topic) if val == i]\n",
    "        plt.scatter(\n",
    "            x=tsne_fit[indices, 0], \n",
    "            y=tsne_fit[indices, 1], \n",
    "            s=0.5, \n",
    "            c=color_list[i], \n",
    "            label='Topic' + str(i),\n",
    "            alpha=0.25\n",
    "        )\n",
    "\n",
    "    plt.xlabel('x-tsne')\n",
    "    plt.ylabel('y-tsne')\n",
    "    plt.legend(markerscale=10)"
   ]
  },
  {
   "cell_type": "code",
   "execution_count": 52,
   "metadata": {},
   "outputs": [
    {
     "name": "stdout",
     "output_type": "stream",
     "text": [
      "LENGTH:\n",
      "58645\n",
      "\n",
      "COUNTS:\n",
      "[[    0 15355]\n",
      " [    1 23875]\n",
      " [    2 19415]]\n",
      "\n"
     ]
    },
    {
     "data": {
      "image/png": "[encoded data removed]",
      "text/plain": [
       "<Figure size 432x288 with 1 Axes>"
      ]
     },
     "metadata": {
      "needs_background": "light"
     },
     "output_type": "display_data"
    }
   ],
   "source": [
    "# execute the function\n",
    "plot_tsne(data=lda_transform, threshold=0.75)"
   ]
  },
  {
   "cell_type": "markdown",
   "metadata": {},
   "source": [
    "# Trying Four Topics"
   ]
  },
  {
   "cell_type": "code",
   "execution_count": 53,
   "metadata": {},
   "outputs": [
    {
     "data": {
      "text/plain": [
       "LatentDirichletAllocation(learning_method='online', n_components=4,\n",
       "                          random_state=0)"
      ]
     },
     "execution_count": 53,
     "metadata": {},
     "output_type": "execute_result"
    }
   ],
   "source": [
    "# Run an LDA model with four topics\n",
    "lda4 = sklearn.decomposition.LatentDirichletAllocation(n_components=4,\n",
    "                                                      learning_method='online',\n",
    "                                                      random_state=0)\n",
    "lda4.fit(clean_vec1)"
   ]
  },
  {
   "cell_type": "code",
   "execution_count": 54,
   "metadata": {},
   "outputs": [],
   "source": [
    "# Execute the get_topics function to produce the more readable word-topic and topic-document tables\n",
    "W_df4, H_df4 = get_topics(mod=lda4,\n",
    "                          vec=clean_vec1,\n",
    "                          names=feature_names_vec1,\n",
    "                          docs=raw,\n",
    "                          ndocs=number_docs,\n",
    "                          nwords=number_words)"
   ]
  },
  {
   "cell_type": "code",
   "execution_count": 55,
   "metadata": {},
   "outputs": [
    {
     "name": "stdout",
     "output_type": "stream",
     "text": [
      "                    Topic0                 Topic1                Topic2  \\\n",
      "Word0  (0.1197, microsoft)     (0.036, palestine)     (0.1117, economy)   \n",
      "Word1    (0.0232, windows)  (0.0279, palestinian)    (0.0369, economic)   \n",
      "Word2    (0.0216, company)        (0.0216, state)      (0.0198, growth)   \n",
      "Word3   (0.0175, announce)     (0.0212, minister)        (0.0181, quot)   \n",
      "Word4      (0.0101, today)        (0.0143, unite)      (0.0163, global)   \n",
      "Word5    (0.0098, release)     (0.0137, national)        (0.013, china)   \n",
      "Word6   (0.0085, business)     (0.0135, european)      (0.012, percent)   \n",
      "Word7     (0.0084, update)        (0.013, nation)     (0.0113, quarter)   \n",
      "Word8      (0.0079, cloud)        (0.0129, union)       (0.0107, world)   \n",
      "Word9    (0.0074, surface)       (0.0123, israel)  (0.0103, government)   \n",
      "\n",
      "                         Topic3  \n",
      "Word0           (0.1391, obama)  \n",
      "Word1       (0.1045, president)  \n",
      "Word2          (0.0597, barack)  \n",
      "Word3            (0.0521, quot)  \n",
      "Word4      (0.0169, washington)  \n",
      "Word5           (0.0155, house)  \n",
      "Word6           (0.0143, white)  \n",
      "Word7  (0.0138, administration)  \n",
      "Word8           (0.0101, first)  \n",
      "Word9           (0.0097, trump)  \n"
     ]
    }
   ],
   "source": [
    "# print the word-topic table\n",
    "print(W_df4)"
   ]
  },
  {
   "cell_type": "code",
   "execution_count": 56,
   "metadata": {},
   "outputs": [
    {
     "name": "stdout",
     "output_type": "stream",
     "text": [
      "                                                 Topic0  \\\n",
      "Doc0  (0.975, The legal showdown over the Obama admi...   \n",
      "Doc1  (0.9731, NEW DELHI: Buoyed by impressive GDP n...   \n",
      "Doc2  (0.9726, IN the last two years, the US economy...   \n",
      "Doc3  (0.9719, The protection of American oil intere...   \n",
      "Doc4  (0.9718, &quot;We do need to drive up the leve...   \n",
      "Doc5  (0.9717, If you have been ever so lazy to chan...   \n",
      "Doc6  (0.9715, On Wednesday, Microsoft continued its...   \n",
      "Doc7  (0.971, \"\"\"When I began working on this concep...   \n",
      "Doc8  (0.971, The Estonian economy was also positive...   \n",
      "Doc9  (0.971, 2 economy could be sucked into a Japan...   \n",
      "\n",
      "                                                 Topic1  \\\n",
      "Doc0  (0.9683, Just recently I wrote about my busine...   \n",
      "Doc1  (0.9655, The University of Michigan Survey of ...   \n",
      "Doc2  (0.9554, \"\"\"Tax hikes, amnesty, the Republican...   \n",
      "Doc3  (0.9526, Unlike China's debt binge at the end ...   \n",
      "Doc4  (0.9524, CATONSVILLE, Md. (AP) - President Bar...   \n",
      "Doc5  (0.9524, Fort Wayne Snider edges New Palestine...   \n",
      "Doc6  (0.9523, RAMALLAH, Jan. 31 (Xinhua) -- China's...   \n",
      "Doc7  (0.9518, Najib, who is also Finance Minister, ...   \n",
      "Doc8  (0.9517, Now that the UK has voted to leave th...   \n",
      "Doc9  (0.9497, 12, President Obama will stride to th...   \n",
      "\n",
      "                                                 Topic2  \\\n",
      "Doc0  (0.9753, HAVANA \"\"\" Just hours before Presiden...   \n",
      "Doc1  (0.975, Wyndham's tongue-in-cheek, thoughtful ...   \n",
      "Doc2  (0.975, In its second iteration, the Microsoft...   \n",
      "Doc3  (0.975, President Obama's latest push for gun ...   \n",
      "Doc4  (0.975, THE WOODLANDS, Tex. -- Donald Trump on...   \n",
      "Doc5  (0.9747, German business confidence unexpected...   \n",
      "Doc6  (0.9747, Microsoft researchers have come up wi...   \n",
      "Doc7  (0.9747, Microsoft says in its suit that it re...   \n",
      "Doc8  (0.9747, But now Microsoft, in a move that cou...   \n",
      "Doc9  (0.9747, The growing air transport business is...   \n",
      "\n",
      "                                                 Topic3  \n",
      "Doc0  (0.9727, In a remarkable strategic shift, Micr...  \n",
      "Doc1  (0.9715, Here is an illegal industry growing t...  \n",
      "Doc2  (0.9696, President Obama's foreign policy has ...  \n",
      "Doc3  (0.9696, A pair of surveys released Friday sho...  \n",
      "Doc4  (0.9696, NEW YORK (Project Syndicate) \"\"\" Sinc...  \n",
      "Doc5  (0.9683, [BEIJING] China's economy will not ha...  \n",
      "Doc6  (0.9669, By Jason Subler and Kevin Yao BEIJING...  \n",
      "Doc7  (0.9665, President Obama in an interview broad...  \n",
      "Doc8  (0.9656, \"\"\"This is one of the strongest parts...  \n",
      "Doc9  (0.9652, President Obama will deliver a primet...  \n"
     ]
    }
   ],
   "source": [
    "# print the document-topic table\n",
    "print(H_df4)"
   ]
  },
  {
   "cell_type": "code",
   "execution_count": 57,
   "metadata": {},
   "outputs": [
    {
     "data": {
      "text/html": [
       "\n",
       "<link rel=\"stylesheet\" type=\"text/css\" href=\"https://cdn.jsdelivr.net/gh/bmabey/pyLDAvis/pyLDAvis/js/ldavis.v1.0.0.css\">\n",
       "\n",
       "\n",
       "<div id=\"ldavis_el9692259093243706487655273\"></div>\n",
       "<script type=\"text/javascript\">\n",
       "\n",
       "var ldavis_el9692259093243706487655273_data = {\"mdsDat\": {\"x\": [-0.13589402829897068, 0.22520027738081946, -0.2658282785419031, 0.1765220294600543], \"y\": [0.17842212974236968, -0.23262075474142296, -0.15161176097022633, 0.20581038596927956], \"topics\": [1, 2, 3, 4], \"cluster\": [1, 1, 1, 1], \"Freq\": [29.170119996660375, 26.935812022648182, 25.270037711022724, 18.62403026966871]}, \"tinfo\": {\"Term\": [\"obama\", \"microsoft\", \"economy\", \"president\", \"barack\", \"quot\", \"economic\", \"palestine\", \"palestinian\", \"windows\", \"economy\", \"growth\", \"global\", \"china\", \"percent\", \"quarter\", \"expect\", \"federal\", \"financial\", \"second\", \"economic\", \"market\", \"government\", \"quot\", \"world\", \"obama\", \"president\", \"barack\", \"house\", \"white\", \"administration\", \"trump\", \"republican\", \"clinton\", \"court\", \"washington\", \"quot\", \"first\", \"microsoft\", \"windows\", \"company\", \"announce\", \"update\", \"cloud\", \"surface\", \"software\", \"build\", \"technology\", \"release\", \"today\", \"business\", \"palestine\", \"palestinian\", \"minister\", \"unite\", \"european\", \"national\", \"union\", \"nation\", \"israel\", \"israeli\", \"state\"], \"Freq\": [30676.0, 24757.0, 26687.0, 23038.0, 13156.0, 15796.0, 9147.0, 5486.0, 4259.0, 4800.0, 26686.24271146052, 4717.465450807843, 3894.1284120385762, 3104.3072443740193, 2870.6025845033773, 2706.412580594822, 2019.3579240647966, 1897.0724877263199, 1515.2698950120005, 1414.292861972647, 8800.967199908415, 2396.209777252411, 2465.0897143688153, 4312.499246400533, 2550.86837788502, 30675.965205222896, 23038.201297032963, 13156.131241962303, 3417.016761812374, 3150.3494314446552, 3053.546587851384, 2132.9272361125327, 2045.0815235212344, 1733.6064629949956, 1583.7536992159353, 3733.1789310355107, 11483.528669906675, 2238.268310814545, 24756.517381869548, 4799.756168698419, 4472.647646659618, 3626.784587206399, 1731.8207792189926, 1639.3079222199283, 1525.3281547520053, 1478.0095866625197, 1410.207210026899, 1397.0085034269468, 2023.948954626631, 2085.565351841119, 1750.38496289843, 5485.512018468955, 4259.031746385914, 3237.7182749456997, 2181.9851366471125, 2060.9700766585584, 2085.414096793668, 1970.4813302674181, 1982.850386253836, 1875.372407826784, 1635.973043109132, 3298.1666974577697], \"Total\": [30676.0, 24757.0, 26687.0, 23038.0, 13156.0, 15796.0, 9147.0, 5486.0, 4259.0, 4800.0, 26687.017191355742, 4718.229642769009, 3894.914084314684, 3105.079306165242, 2871.367608609081, 2707.1745510547216, 2020.1598788113722, 1897.8978956824988, 1516.0526247827468, 1415.086411609178, 9147.952290020306, 2853.9829582260486, 3377.1887176858377, 15796.608090182634, 4382.1356008314815, 30676.737063019744, 23038.976965225716, 13156.901312494596, 3417.789346451685, 3151.11975603769, 3054.3228461332064, 2133.6971448097033, 2045.8474651581396, 1734.3744684329736, 1584.527316298035, 4064.761761896652, 15796.608090182634, 5692.866430324374, 24757.279153966352, 4800.514395517104, 4473.422686984685, 3628.2122026230363, 1732.5879238642856, 1640.0700446252797, 1526.0875848095577, 1478.7708284548946, 1410.9844184660813, 1397.7793449605865, 2561.1564920721585, 2919.3101045293197, 3253.9107429505993, 5486.263832850941, 4259.781329315701, 3238.4825058108195, 2182.756049052448, 2061.742026130008, 2086.198390249944, 1971.2515894282476, 1983.6322526070053, 1876.1248703506235, 1636.722411530528, 5352.661816582418], \"Category\": [\"Default\", \"Default\", \"Default\", \"Default\", \"Default\", \"Default\", \"Default\", \"Default\", \"Default\", \"Default\", \"Topic1\", \"Topic1\", \"Topic1\", \"Topic1\", \"Topic1\", \"Topic1\", \"Topic1\", \"Topic1\", \"Topic1\", \"Topic1\", \"Topic1\", \"Topic1\", \"Topic1\", \"Topic1\", \"Topic1\", \"Topic2\", \"Topic2\", \"Topic2\", \"Topic2\", \"Topic2\", \"Topic2\", \"Topic2\", \"Topic2\", \"Topic2\", \"Topic2\", \"Topic2\", \"Topic2\", \"Topic2\", \"Topic3\", \"Topic3\", \"Topic3\", \"Topic3\", \"Topic3\", \"Topic3\", \"Topic3\", \"Topic3\", \"Topic3\", \"Topic3\", \"Topic3\", \"Topic3\", \"Topic3\", \"Topic4\", \"Topic4\", \"Topic4\", \"Topic4\", \"Topic4\", \"Topic4\", \"Topic4\", \"Topic4\", \"Topic4\", \"Topic4\", \"Topic4\"], \"logprob\": [10.0, 9.0, 8.0, 7.0, 6.0, 5.0, 4.0, 3.0, 2.0, 1.0, -2.1916, -3.9245, -4.1163, -4.343, -4.4212, -4.4801, -4.773, -4.8354, -5.0602, -5.1291, -3.3009, -4.6019, -4.5735, -4.0142, -4.5393, -1.9726, -2.2589, -2.8192, -4.1673, -4.2486, -4.2798, -4.6386, -4.6806, -4.8459, -4.9363, -4.0788, -2.9552, -4.5904, -2.1231, -3.7637, -3.8343, -4.0439, -4.7831, -4.838, -4.91, -4.9415, -4.9885, -4.9979, -4.6272, -4.5972, -4.7724, -3.325, -3.578, -3.8522, -4.2468, -4.3039, -4.2921, -4.3488, -4.3425, -4.3983, -4.5348, -3.8337], \"loglift\": [10.0, 9.0, 8.0, 7.0, 6.0, 5.0, 4.0, 3.0, 2.0, 1.0, 1.232, 1.2319, 1.2318, 1.2318, 1.2318, 1.2317, 1.2316, 1.2316, 1.2315, 1.2315, 1.1934, 1.0572, 0.9172, -0.0663, 0.6909, 1.3117, 1.3117, 1.3117, 1.3115, 1.3115, 1.3115, 1.3114, 1.3113, 1.3113, 1.3112, 1.2266, 0.9928, 0.3782, 1.3755, 1.3754, 1.3754, 1.3752, 1.3751, 1.3751, 1.3751, 1.375, 1.375, 1.375, 1.1401, 1.0392, 0.7555, 1.6806, 1.6805, 1.6805, 1.6804, 1.6803, 1.6803, 1.6803, 1.6803, 1.6803, 1.6803, 1.1965]}, \"token.table\": {\"Topic\": [2, 3, 4, 2, 3, 1, 3, 1, 2, 3, 3, 2, 1, 4, 1, 4, 1, 1, 1, 1, 2, 3, 4, 1, 1, 4, 1, 2, 4, 4, 1, 3, 3, 4, 4, 4, 2, 4, 4, 1, 2, 1, 1, 2, 1, 3, 2, 1, 3, 1, 2, 4, 3, 3, 1, 2, 3, 4, 2, 4, 4, 3, 1, 2, 2, 3, 1, 2, 3, 4], \"Freq\": [0.9998942986221594, 0.999665895334854, 0.00027561783714774026, 0.999931495078272, 0.9993023179751684, 0.4619057247517187, 0.5378143834434516, 0.9996524062483367, 0.9997840902067061, 0.9993475616308057, 0.999905511503325, 0.999667209083358, 0.9620732291751452, 0.037822672116191364, 0.9999618844118678, 0.9996400974900818, 0.999425848011567, 0.9995268999009159, 0.9993056805776135, 0.3608024226703954, 0.39312357445781154, 0.20710129324654147, 0.03899617226525209, 0.999765313356111, 0.7298970256210912, 0.2700470942663023, 0.9997393847137361, 0.9997690476586848, 0.9994004288475674, 0.9995586230594518, 0.8395284888068437, 0.16012709490180618, 0.9999887243681095, 0.999851008671514, 0.9996812652112435, 0.9994255626619477, 0.9999759732262845, 0.9999519102874052, 0.9998165799473498, 0.9998719743832246, 0.9999575951125265, 0.9995661339774844, 0.27296999301260416, 0.726991512002956, 0.20967090517984266, 0.7902679927076379, 0.999585763272887, 0.9992322648283065, 0.9994787370429128, 0.0644539131785233, 0.3194672218413763, 0.6161420453993329, 0.9992873378825807, 0.9994424406374323, 0.05480746966612401, 0.018154974326903578, 0.7145523857720918, 0.2127214916416438, 0.9996732690900397, 0.9993650787981809, 0.9996536264083308, 0.9996606672272226, 0.08143158674213483, 0.9183810069739858, 0.9996446482125776, 0.9998928457505336, 0.5821362532724831, 0.11136122759583368, 0.13121456120410732, 0.17548521315818874], \"Term\": [\"administration\", \"announce\", \"announce\", \"barack\", \"build\", \"business\", \"business\", \"china\", \"clinton\", \"cloud\", \"company\", \"court\", \"economic\", \"economic\", \"economy\", \"european\", \"expect\", \"federal\", \"financial\", \"first\", \"first\", \"first\", \"first\", \"global\", \"government\", \"government\", \"growth\", \"house\", \"israel\", \"israeli\", \"market\", \"market\", \"microsoft\", \"minister\", \"nation\", \"national\", \"obama\", \"palestine\", \"palestinian\", \"percent\", \"president\", \"quarter\", \"quot\", \"quot\", \"release\", \"release\", \"republican\", \"second\", \"software\", \"state\", \"state\", \"state\", \"surface\", \"technology\", \"today\", \"today\", \"today\", \"today\", \"trump\", \"union\", \"unite\", \"update\", \"washington\", \"washington\", \"white\", \"windows\", \"world\", \"world\", \"world\", \"world\"]}, \"R\": 10, \"lambda.step\": 0.01, \"plot.opts\": {\"xlab\": \"PC1\", \"ylab\": \"PC2\"}, \"topic.order\": [3, 4, 1, 2]};\n",
       "\n",
       "function LDAvis_load_lib(url, callback){\n",
       "  var s = document.createElement('script');\n",
       "  s.src = url;\n",
       "  s.async = true;\n",
       "  s.onreadystatechange = s.onload = callback;\n",
       "  s.onerror = function(){console.warn(\"failed to load library \" + url);};\n",
       "  document.getElementsByTagName(\"head\")[0].appendChild(s);\n",
       "}\n",
       "\n",
       "if(typeof(LDAvis) !== \"undefined\"){\n",
       "   // already loaded: just create the visualization\n",
       "   !function(LDAvis){\n",
       "       new LDAvis(\"#\" + \"ldavis_el9692259093243706487655273\", ldavis_el9692259093243706487655273_data);\n",
       "   }(LDAvis);\n",
       "}else if(typeof define === \"function\" && define.amd){\n",
       "   // require.js is available: use it to load d3/LDAvis\n",
       "   require.config({paths: {d3: \"https://d3js.org/d3.v5\"}});\n",
       "   require([\"d3\"], function(d3){\n",
       "      window.d3 = d3;\n",
       "      LDAvis_load_lib(\"https://cdn.jsdelivr.net/gh/bmabey/pyLDAvis/pyLDAvis/js/ldavis.v3.0.0.js\", function(){\n",
       "        new LDAvis(\"#\" + \"ldavis_el9692259093243706487655273\", ldavis_el9692259093243706487655273_data);\n",
       "      });\n",
       "    });\n",
       "}else{\n",
       "    // require.js not available: dynamically load d3 & LDAvis\n",
       "    LDAvis_load_lib(\"https://d3js.org/d3.v5.js\", function(){\n",
       "         LDAvis_load_lib(\"https://cdn.jsdelivr.net/gh/bmabey/pyLDAvis/pyLDAvis/js/ldavis.v3.0.0.js\", function(){\n",
       "                 new LDAvis(\"#\" + \"ldavis_el9692259093243706487655273\", ldavis_el9692259093243706487655273_data);\n",
       "            })\n",
       "         });\n",
       "}\n",
       "</script>"
      ],
      "text/plain": [
       "<IPython.core.display.HTML object>"
      ]
     },
     "execution_count": 57,
     "metadata": {},
     "output_type": "execute_result"
    }
   ],
   "source": [
    "# Display the results of the LDA model using pyLDAvis\n",
    "lda4_plot = pyLDAvis.sklearn.prepare(lda4, clean_vec1, vectorizer1, R=10)\n",
    "pyLDAvis.display(lda4_plot)"
   ]
  },
  {
   "cell_type": "markdown",
   "metadata": {},
   "source": [
    "# Creating a Bag-of-Words Model Using TF-IDF"
   ]
  },
  {
   "cell_type": "code",
   "execution_count": 58,
   "metadata": {},
   "outputs": [],
   "source": [
    "# Run the TF-IDF vectorizer\n",
    "vectorizer2 = sklearn.feature_extraction.text.TfidfVectorizer(analyzer=\"word\",\n",
    "                                                              max_df=0.5,\n",
    "                                                              min_df=20,\n",
    "                                                              max_features=number_features,\n",
    "                                                              smooth_idf=False)"
   ]
  },
  {
   "cell_type": "code",
   "execution_count": 59,
   "metadata": {},
   "outputs": [
    {
     "name": "stdout",
     "output_type": "stream",
     "text": [
      "  (0, 91)\t0.38552085750190007\n",
      "  (0, 651)\t0.32177607929117913\n",
      "  (0, 560)\t0.6400124498874733\n",
      "  (0, 577)\t0.5815650326627546\n"
     ]
    }
   ],
   "source": [
    "clean_vec2 = vectorizer2.fit_transform(clean_sentences)\n",
    "print(clean_vec2[0])"
   ]
  },
  {
   "cell_type": "code",
   "execution_count": 60,
   "metadata": {},
   "outputs": [
    {
     "data": {
      "text/plain": [
       "['000',\n",
       " '10',\n",
       " '2014',\n",
       " '2015',\n",
       " '2016',\n",
       " 'abbas',\n",
       " 'ability',\n",
       " 'accept',\n",
       " 'access',\n",
       " 'accord',\n",
       " 'account',\n",
       " 'achieve',\n",
       " 'acquire',\n",
       " 'acquisition',\n",
       " 'across',\n",
       " 'action',\n",
       " 'activist',\n",
       " 'activity',\n",
       " 'actually',\n",
       " 'address',\n",
       " 'administration',\n",
       " 'advance',\n",
       " 'adviser',\n",
       " 'affairs',\n",
       " 'affect',\n",
       " 'afp',\n",
       " 'africa',\n",
       " 'african',\n",
       " 'afternoon',\n",
       " 'agency',\n",
       " 'agenda',\n",
       " 'agree',\n",
       " 'agreement',\n",
       " 'ahead',\n",
       " 'al',\n",
       " 'all',\n",
       " 'allies',\n",
       " 'allow',\n",
       " 'almost',\n",
       " 'along',\n",
       " 'already',\n",
       " 'although',\n",
       " 'always',\n",
       " 'amazon',\n",
       " 'america',\n",
       " 'american',\n",
       " 'among',\n",
       " 'amp',\n",
       " 'analysis',\n",
       " 'analyst',\n",
       " 'and',\n",
       " 'android',\n",
       " 'anniversary',\n",
       " 'announce',\n",
       " 'announcement',\n",
       " 'annual',\n",
       " 'another',\n",
       " 'answer',\n",
       " 'anti',\n",
       " 'antonin',\n",
       " 'appeal',\n",
       " 'appear',\n",
       " 'apple',\n",
       " 'application',\n",
       " 'approach',\n",
       " 'april',\n",
       " 'arabia',\n",
       " 'argentina',\n",
       " 'argue',\n",
       " 'around',\n",
       " 'arrive',\n",
       " 'article',\n",
       " 'asia',\n",
       " 'asian',\n",
       " 'assistant',\n",
       " 'association',\n",
       " 'attack',\n",
       " 'attempt',\n",
       " 'attend',\n",
       " 'attention',\n",
       " 'australia',\n",
       " 'australian',\n",
       " 'author',\n",
       " 'authorities',\n",
       " 'authority',\n",
       " 'available',\n",
       " 'average',\n",
       " 'award',\n",
       " 'azure',\n",
       " 'bank',\n",
       " 'banks',\n",
       " 'barack',\n",
       " 'based',\n",
       " 'battle',\n",
       " 'become',\n",
       " 'begin',\n",
       " 'beginning',\n",
       " 'behind',\n",
       " 'beijing',\n",
       " 'belief',\n",
       " 'believe',\n",
       " 'benefit',\n",
       " 'bernardino',\n",
       " 'bernie',\n",
       " 'better',\n",
       " 'billion',\n",
       " 'black',\n",
       " 'blame',\n",
       " 'block',\n",
       " 'bloomberg',\n",
       " 'board',\n",
       " 'boost',\n",
       " 'brand',\n",
       " 'brazil',\n",
       " 'break',\n",
       " 'brexit',\n",
       " 'bring',\n",
       " 'bringing',\n",
       " 'britain',\n",
       " 'british',\n",
       " 'broad',\n",
       " 'browser',\n",
       " 'brussels',\n",
       " 'budget',\n",
       " 'build',\n",
       " 'building',\n",
       " 'bureau',\n",
       " 'business',\n",
       " 'california',\n",
       " 'called',\n",
       " 'calling',\n",
       " 'campaign',\n",
       " 'can',\n",
       " 'canada',\n",
       " 'canadian',\n",
       " 'candidate',\n",
       " 'capital',\n",
       " 'carry',\n",
       " 'cause',\n",
       " 'celebrate',\n",
       " 'center',\n",
       " 'central',\n",
       " 'centre',\n",
       " 'century',\n",
       " 'chair',\n",
       " 'chairman',\n",
       " 'challenge',\n",
       " 'chance',\n",
       " 'change',\n",
       " 'charge',\n",
       " 'check',\n",
       " 'chicago',\n",
       " 'chief',\n",
       " 'child',\n",
       " 'china',\n",
       " 'chinese',\n",
       " 'chris',\n",
       " 'christmas',\n",
       " 'city',\n",
       " 'civil',\n",
       " 'claim',\n",
       " 'class',\n",
       " 'clear',\n",
       " 'climate',\n",
       " 'clinton',\n",
       " 'close',\n",
       " 'cloud',\n",
       " 'cnn',\n",
       " 'co',\n",
       " 'college',\n",
       " 'com',\n",
       " 'combat',\n",
       " 'coming',\n",
       " 'comment',\n",
       " 'commerce',\n",
       " 'commission',\n",
       " 'commitment',\n",
       " 'committee',\n",
       " 'commodity',\n",
       " 'community',\n",
       " 'company',\n",
       " 'compare',\n",
       " 'computer',\n",
       " 'computing',\n",
       " 'concern',\n",
       " 'conditions',\n",
       " 'conference',\n",
       " 'confidence',\n",
       " 'confirm',\n",
       " 'conflict',\n",
       " 'congress',\n",
       " 'connect',\n",
       " 'conservative',\n",
       " 'consider',\n",
       " 'console',\n",
       " 'construction',\n",
       " 'consumer',\n",
       " 'consumption',\n",
       " 'content',\n",
       " 'continue',\n",
       " 'contract',\n",
       " 'contribute',\n",
       " 'control',\n",
       " 'cooperation',\n",
       " 'corp',\n",
       " 'corporate',\n",
       " 'corporation',\n",
       " 'cortana',\n",
       " 'could',\n",
       " 'council',\n",
       " 'country',\n",
       " 'county',\n",
       " 'couple',\n",
       " 'course',\n",
       " 'court',\n",
       " 'cover',\n",
       " 'create',\n",
       " 'credit',\n",
       " 'crisis',\n",
       " 'critical',\n",
       " 'criticism',\n",
       " 'criticize',\n",
       " 'cuba',\n",
       " 'cuban',\n",
       " 'currency',\n",
       " 'current',\n",
       " 'currently',\n",
       " 'customer',\n",
       " 'daily',\n",
       " 'damage',\n",
       " 'data',\n",
       " 'david',\n",
       " 'day',\n",
       " 'death',\n",
       " 'debate',\n",
       " 'decade',\n",
       " 'december',\n",
       " 'decide',\n",
       " 'decision',\n",
       " 'declare',\n",
       " 'decline',\n",
       " 'defend',\n",
       " 'defense',\n",
       " 'delhi',\n",
       " 'deliver',\n",
       " 'demand',\n",
       " 'democrat',\n",
       " 'democratic',\n",
       " 'department',\n",
       " 'deputy',\n",
       " 'describe',\n",
       " 'design',\n",
       " 'despite',\n",
       " 'details',\n",
       " 'develop',\n",
       " 'developer',\n",
       " 'development',\n",
       " 'device',\n",
       " 'devices',\n",
       " 'didn',\n",
       " 'different',\n",
       " 'difficult',\n",
       " 'digital',\n",
       " 'dinner',\n",
       " 'direct',\n",
       " 'director',\n",
       " 'discus',\n",
       " 'discuss',\n",
       " 'display',\n",
       " 'district',\n",
       " 'document',\n",
       " 'doesn',\n",
       " 'dollar',\n",
       " 'domestic',\n",
       " 'don',\n",
       " 'donald',\n",
       " 'double',\n",
       " 'down',\n",
       " 'downturn',\n",
       " 'drive',\n",
       " 'driver',\n",
       " 'dynamics',\n",
       " 'earlier',\n",
       " 'early',\n",
       " 'earnings',\n",
       " 'economic',\n",
       " 'economist',\n",
       " 'economy',\n",
       " 'edition',\n",
       " 'education',\n",
       " 'effect',\n",
       " 'effort',\n",
       " 'eight',\n",
       " 'elect',\n",
       " 'election',\n",
       " 'email',\n",
       " 'emerge',\n",
       " 'employee',\n",
       " 'employment',\n",
       " 'enable',\n",
       " 'encourage',\n",
       " 'energy',\n",
       " 'engine',\n",
       " 'enough',\n",
       " 'ensure',\n",
       " 'enter',\n",
       " 'enterprise',\n",
       " 'environment',\n",
       " 'especially',\n",
       " 'estimate',\n",
       " 'europe',\n",
       " 'european',\n",
       " 'eurozone',\n",
       " 'event',\n",
       " 'every',\n",
       " 'everything',\n",
       " 'exchange',\n",
       " 'executive',\n",
       " 'exist',\n",
       " 'expand',\n",
       " 'expansion',\n",
       " 'expect',\n",
       " 'expectation',\n",
       " 'expected',\n",
       " 'experience',\n",
       " 'expert',\n",
       " 'explain',\n",
       " 'explorer',\n",
       " 'export',\n",
       " 'express',\n",
       " 'extend',\n",
       " 'facebook',\n",
       " 'facing',\n",
       " 'family',\n",
       " 'feature',\n",
       " 'february',\n",
       " 'federal',\n",
       " 'fight',\n",
       " 'figure',\n",
       " 'final',\n",
       " 'finally',\n",
       " 'finance',\n",
       " 'financial',\n",
       " 'first',\n",
       " 'fiscal',\n",
       " 'florida',\n",
       " 'focus',\n",
       " 'follow',\n",
       " 'following',\n",
       " 'force',\n",
       " 'forecast',\n",
       " 'foreign',\n",
       " 'former',\n",
       " 'forum',\n",
       " 'forward',\n",
       " 'found',\n",
       " 'foundation',\n",
       " 'founder',\n",
       " 'fourth',\n",
       " 'france',\n",
       " 'francisco',\n",
       " 'freedom',\n",
       " 'french',\n",
       " 'fresh',\n",
       " 'friday',\n",
       " 'front',\n",
       " 'funding',\n",
       " 'future',\n",
       " 'gaming',\n",
       " 'garland',\n",
       " 'general',\n",
       " 'generate',\n",
       " 'generation',\n",
       " 'george',\n",
       " 'german',\n",
       " 'germany',\n",
       " 'getting',\n",
       " 'giant',\n",
       " 'given',\n",
       " 'giving',\n",
       " 'global',\n",
       " 'going',\n",
       " 'google',\n",
       " 'government',\n",
       " 'governor',\n",
       " 'grant',\n",
       " 'great',\n",
       " 'gross',\n",
       " 'ground',\n",
       " 'group',\n",
       " 'growing',\n",
       " 'growth',\n",
       " 'hands',\n",
       " 'happen',\n",
       " 'hardware',\n",
       " 'hasn',\n",
       " 'havana',\n",
       " 'headset',\n",
       " 'health',\n",
       " 'helping',\n",
       " 'here',\n",
       " 'high',\n",
       " 'higher',\n",
       " 'highlight',\n",
       " 'hillary',\n",
       " 'hiroshima',\n",
       " 'historic',\n",
       " 'history',\n",
       " 'holding',\n",
       " 'holiday',\n",
       " 'hololens',\n",
       " 'hours',\n",
       " 'house',\n",
       " 'however',\n",
       " 'human',\n",
       " 'identify',\n",
       " 'image',\n",
       " 'immigration',\n",
       " 'impact',\n",
       " 'important',\n",
       " 'improve',\n",
       " 'improvement',\n",
       " 'in',\n",
       " 'include',\n",
       " 'income',\n",
       " 'increase',\n",
       " 'increasingly',\n",
       " 'index',\n",
       " 'india',\n",
       " 'indian',\n",
       " 'indicate',\n",
       " 'indicator',\n",
       " 'industrial',\n",
       " 'industry',\n",
       " 'inflation',\n",
       " 'information',\n",
       " 'infrastructure',\n",
       " 'initiative',\n",
       " 'innovation',\n",
       " 'insider',\n",
       " 'instead',\n",
       " 'institute',\n",
       " 'intelligence',\n",
       " 'interest',\n",
       " 'international',\n",
       " 'internet',\n",
       " 'interview',\n",
       " 'introduce',\n",
       " 'investment',\n",
       " 'investor',\n",
       " 'iran',\n",
       " 'ireland',\n",
       " 'islamic',\n",
       " 'island',\n",
       " 'isn',\n",
       " 'israel',\n",
       " 'israeli',\n",
       " 'issue',\n",
       " 'it',\n",
       " 'january',\n",
       " 'japan',\n",
       " 'japanese',\n",
       " 'jerusalem',\n",
       " 'jewish',\n",
       " 'jobs',\n",
       " 'joint',\n",
       " 'judge',\n",
       " 'justice',\n",
       " 'justin',\n",
       " 'keyboard',\n",
       " 'korea',\n",
       " 'kuala',\n",
       " 'labor',\n",
       " 'laptop',\n",
       " 'large',\n",
       " 'largely',\n",
       " 'largest',\n",
       " 'later',\n",
       " 'latest',\n",
       " 'launch',\n",
       " 'lawmaker',\n",
       " 'leader',\n",
       " 'leaders',\n",
       " 'leadership',\n",
       " 'leading',\n",
       " 'learn',\n",
       " 'least',\n",
       " 'leave',\n",
       " 'leaving',\n",
       " 'left',\n",
       " 'legacy',\n",
       " 'legal',\n",
       " 'legislation',\n",
       " 'letter',\n",
       " 'level',\n",
       " 'likely',\n",
       " 'linkedin',\n",
       " 'linux',\n",
       " 'little',\n",
       " 'll',\n",
       " 'local',\n",
       " 'london',\n",
       " 'long',\n",
       " 'longer',\n",
       " 'looking',\n",
       " 'lower',\n",
       " 'lumia',\n",
       " 'lumpur',\n",
       " 'machine',\n",
       " 'mahmoud',\n",
       " 'maintain',\n",
       " 'major',\n",
       " 'majority',\n",
       " 'maker',\n",
       " 'making',\n",
       " 'malaysia',\n",
       " 'malia',\n",
       " 'manage',\n",
       " 'management',\n",
       " 'manager',\n",
       " 'manufacturing',\n",
       " 'march',\n",
       " 'market',\n",
       " 'markets',\n",
       " 'massive',\n",
       " 'matter',\n",
       " 'means',\n",
       " 'measure',\n",
       " 'medium',\n",
       " 'meeting',\n",
       " 'member',\n",
       " 'message',\n",
       " 'michelle',\n",
       " 'microsoft',\n",
       " 'middle',\n",
       " 'middot',\n",
       " 'might',\n",
       " 'military',\n",
       " 'million',\n",
       " 'minister',\n",
       " 'ministry',\n",
       " 'mobile',\n",
       " 'model',\n",
       " 'moment',\n",
       " 'momentum',\n",
       " 'monday',\n",
       " 'monetary',\n",
       " 'money',\n",
       " 'month',\n",
       " 'months',\n",
       " 'more',\n",
       " 'morning',\n",
       " 'moscow',\n",
       " 'mosque',\n",
       " 'movement',\n",
       " 'msft',\n",
       " 'muslim',\n",
       " 'nadella',\n",
       " 'nasdaq',\n",
       " 'nation',\n",
       " 'national',\n",
       " 'nearly',\n",
       " 'negative',\n",
       " 'network',\n",
       " 'never',\n",
       " 'news',\n",
       " 'nigeria',\n",
       " 'night',\n",
       " 'nominate',\n",
       " 'nomination',\n",
       " 'nominee',\n",
       " 'non',\n",
       " 'north',\n",
       " 'november',\n",
       " 'nuclear',\n",
       " 'number',\n",
       " 'numbers',\n",
       " 'obama',\n",
       " 'occupy',\n",
       " 'october',\n",
       " 'offer',\n",
       " 'offering',\n",
       " 'office',\n",
       " 'officer',\n",
       " 'official',\n",
       " 'officially',\n",
       " 'often',\n",
       " 'old',\n",
       " 'on',\n",
       " 'one',\n",
       " 'ongoing',\n",
       " 'online',\n",
       " 'opening',\n",
       " 'operate',\n",
       " 'opportunity',\n",
       " 'opposition',\n",
       " 'option',\n",
       " 'order',\n",
       " 'organization',\n",
       " 'orlando',\n",
       " 'others',\n",
       " 'outlook',\n",
       " 'output',\n",
       " 'outside',\n",
       " 'overall',\n",
       " 'owner',\n",
       " 'pacific',\n",
       " 'palestine',\n",
       " 'palestinian',\n",
       " 'paris',\n",
       " 'parliament',\n",
       " 'particularly',\n",
       " 'partner',\n",
       " 'partnership',\n",
       " 'party',\n",
       " 'peace',\n",
       " 'people',\n",
       " 'percent',\n",
       " 'performance',\n",
       " 'period',\n",
       " 'person',\n",
       " 'personal',\n",
       " 'phone',\n",
       " 'photo',\n",
       " 'picture',\n",
       " 'place',\n",
       " 'planning',\n",
       " 'platform',\n",
       " 'player',\n",
       " 'pledge',\n",
       " 'plunge',\n",
       " 'point',\n",
       " 'police',\n",
       " 'policy',\n",
       " 'political',\n",
       " 'politics',\n",
       " 'popular',\n",
       " 'position',\n",
       " 'positive',\n",
       " 'possible',\n",
       " 'post',\n",
       " 'potential',\n",
       " 'power',\n",
       " 'powerful',\n",
       " 'praise',\n",
       " 'pre',\n",
       " 'predict',\n",
       " 'premier',\n",
       " 'prepare',\n",
       " 'present',\n",
       " 'presidency',\n",
       " 'president',\n",
       " 'presidential',\n",
       " 'press',\n",
       " 'pressure',\n",
       " 'pretty',\n",
       " 'prevent',\n",
       " 'preview',\n",
       " 'previous',\n",
       " 'previously',\n",
       " 'price',\n",
       " 'prices',\n",
       " 'primary',\n",
       " 'prime',\n",
       " 'prison',\n",
       " 'private',\n",
       " 'pro',\n",
       " 'probably',\n",
       " 'problem',\n",
       " 'process',\n",
       " 'produce',\n",
       " 'product',\n",
       " 'production',\n",
       " 'productivity',\n",
       " 'professional',\n",
       " 'program',\n",
       " 'progress',\n",
       " 'project',\n",
       " 'promise',\n",
       " 'promote',\n",
       " 'proposal',\n",
       " 'propose',\n",
       " 'prospect',\n",
       " 'protect',\n",
       " 'protection',\n",
       " 'provide',\n",
       " 'provider',\n",
       " 'public',\n",
       " 'publish',\n",
       " 'purchase',\n",
       " 'pushing',\n",
       " 'putin',\n",
       " 'quarter',\n",
       " 'quarterly',\n",
       " 'question',\n",
       " 'quite',\n",
       " 'quot',\n",
       " 'raise',\n",
       " 'rally',\n",
       " 'ramallah',\n",
       " 'range',\n",
       " 'rates',\n",
       " 'rather',\n",
       " 'rating',\n",
       " 're',\n",
       " 'reach',\n",
       " 'ready',\n",
       " 'reality',\n",
       " 'really',\n",
       " 'reason',\n",
       " 'receive',\n",
       " 'recent',\n",
       " 'recently',\n",
       " 'recession',\n",
       " 'recognize',\n",
       " 'record',\n",
       " 'recover',\n",
       " 'recovery',\n",
       " 'redmond',\n",
       " 'reduce',\n",
       " 'referendum',\n",
       " 'reflect',\n",
       " 'reform',\n",
       " 'refugee',\n",
       " 'regard',\n",
       " 'region',\n",
       " 'regional',\n",
       " 'regulation',\n",
       " 'relate',\n",
       " 'relations',\n",
       " 'relationship',\n",
       " 'release',\n",
       " 'remain',\n",
       " 'remains',\n",
       " 'remark',\n",
       " 'replace',\n",
       " 'report',\n",
       " 'reporter',\n",
       " 'represent',\n",
       " 'republican',\n",
       " 'request',\n",
       " 'require',\n",
       " 'research',\n",
       " 'reserve',\n",
       " 'resident',\n",
       " 'resource',\n",
       " 'respond',\n",
       " 'response',\n",
       " 'result',\n",
       " 'retail',\n",
       " 'return',\n",
       " 'reuters',\n",
       " 'reveal',\n",
       " 'revenue',\n",
       " 'review',\n",
       " 'right',\n",
       " 'rising',\n",
       " 'robust',\n",
       " 'round',\n",
       " 'running',\n",
       " 'russia',\n",
       " 'russian',\n",
       " 'said',\n",
       " 'sales',\n",
       " 'sanction',\n",
       " 'sander',\n",
       " 'saturday',\n",
       " 'satya',\n",
       " 'saudi',\n",
       " 'saying',\n",
       " 'scalia',\n",
       " 'schedule',\n",
       " 'school',\n",
       " 'science',\n",
       " 'search',\n",
       " 'season',\n",
       " 'second',\n",
       " 'secretary',\n",
       " 'sector',\n",
       " 'secure',\n",
       " 'security',\n",
       " 'senate',\n",
       " 'senator',\n",
       " 'senior',\n",
       " 'september',\n",
       " 'series',\n",
       " 'serious',\n",
       " 'serve',\n",
       " 'server',\n",
       " 'service',\n",
       " 'services',\n",
       " 'session',\n",
       " 'seven',\n",
       " 'several',\n",
       " 'share',\n",
       " 'sharing',\n",
       " 'sharp',\n",
       " 'shift',\n",
       " 'shock',\n",
       " 'shooting',\n",
       " 'short',\n",
       " 'showing',\n",
       " 'shrink',\n",
       " 'signal',\n",
       " 'significant',\n",
       " 'similar',\n",
       " 'since',\n",
       " 'singapore',\n",
       " 'single',\n",
       " 'sitting',\n",
       " 'situation',\n",
       " 'skype',\n",
       " 'slightly',\n",
       " 'slowdown',\n",
       " 'slowing',\n",
       " 'sluggish',\n",
       " 'slump',\n",
       " 'small',\n",
       " 'smart',\n",
       " 'smartphone',\n",
       " 'so',\n",
       " 'social',\n",
       " 'society',\n",
       " 'software',\n",
       " 'solid',\n",
       " 'solution',\n",
       " 'something',\n",
       " 'sound',\n",
       " 'source',\n",
       " 'south',\n",
       " 'southeast',\n",
       " 'space',\n",
       " 'speak',\n",
       " 'speaking',\n",
       " 'special',\n",
       " 'speech',\n",
       " 'speed',\n",
       " 'spend',\n",
       " 'spending',\n",
       " 'spoke',\n",
       " 'staff',\n",
       " 'stage',\n",
       " 'stand',\n",
       " 'standard',\n",
       " 'start',\n",
       " 'starting',\n",
       " 'startup',\n",
       " 'state',\n",
       " 'statement',\n",
       " 'states',\n",
       " 'statistics',\n",
       " 'steps',\n",
       " 'still',\n",
       " 'stimulus',\n",
       " 'stock',\n",
       " 'stocks',\n",
       " 'storage',\n",
       " 'store',\n",
       " 'story',\n",
       " 'strategy',\n",
       " 'street',\n",
       " 'strength',\n",
       " 'strike',\n",
       " 'strong',\n",
       " 'struggle',\n",
       " 'student',\n",
       " 'study',\n",
       " 'success',\n",
       " 'suggest',\n",
       " 'summer',\n",
       " 'summit',\n",
       " 'sunday',\n",
       " 'support',\n",
       " 'supreme',\n",
       " 'surface',\n",
       " 'surge',\n",
       " 'surprise',\n",
       " 'survey',\n",
       " 'syria',\n",
       " 'syrian',\n",
       " 'system',\n",
       " 'tablet',\n",
       " 'tackle',\n",
       " 'taking',\n",
       " 'talks',\n",
       " 'target',\n",
       " 'tass',\n",
       " 'technology',\n",
       " 'term',\n",
       " 'terms',\n",
       " 'territory',\n",
       " 'terror',\n",
       " 'terrorism',\n",
       " 'terrorist',\n",
       " 'texas',\n",
       " 'thanks',\n",
       " 'that',\n",
       " 'the',\n",
       " 'there',\n",
       " 'they',\n",
       " 'thing',\n",
       " 'things',\n",
       " 'think',\n",
       " 'third',\n",
       " 'this',\n",
       " 'though',\n",
       " 'thought',\n",
       " 'thousand',\n",
       " 'threat',\n",
       " 'threaten',\n",
       " 'three',\n",
       " 'thursday',\n",
       " 'time',\n",
       " 'times',\n",
       " 'title',\n",
       " 'to',\n",
       " 'today',\n",
       " 'together',\n",
       " 'tokyo',\n",
       " 'total',\n",
       " 'tough',\n",
       " 'tourism',\n",
       " 'toward',\n",
       " 'towards',\n",
       " 'track',\n",
       " 'trade',\n",
       " 'trading',\n",
       " 'transgender',\n",
       " 'transition',\n",
       " 'travel',\n",
       " 'trend',\n",
       " 'trillion',\n",
       " 'trudeau',\n",
       " 'trump',\n",
       " 'tuesday',\n",
       " 'turkey',\n",
       " 'twitter',\n",
       " 'two',\n",
       " 'uncertainty',\n",
       " 'unemployment',\n",
       " 'union',\n",
       " 'unite',\n",
       " 'university',\n",
       " 'unveil',\n",
       " 'up',\n",
       " 'upcoming',\n",
       " 'update',\n",
       " 'upgrade',\n",
       " 'users',\n",
       " 'using',\n",
       " 'value',\n",
       " 've',\n",
       " 'version',\n",
       " 'victim',\n",
       " 'video',\n",
       " 'vietnam',\n",
       " 'violence',\n",
       " 'virtual',\n",
       " 'vision',\n",
       " 'visit',\n",
       " 'voice',\n",
       " 'voter',\n",
       " 'wafa',\n",
       " 'warning',\n",
       " 'washington',\n",
       " 'watch',\n",
       " 'water',\n",
       " 'we',\n",
       " 'weakness',\n",
       " 'website',\n",
       " 'wednesday',\n",
       " 'week',\n",
       " 'weekend',\n",
       " 'weigh',\n",
       " 'welcome',\n",
       " 'well',\n",
       " 'what',\n",
       " 'whether',\n",
       " 'white',\n",
       " 'whose',\n",
       " 'windows',\n",
       " 'within',\n",
       " 'without',\n",
       " 'woman',\n",
       " 'won',\n",
       " 'words',\n",
       " 'worker',\n",
       " 'working',\n",
       " 'works',\n",
       " 'world',\n",
       " 'worry',\n",
       " 'worst',\n",
       " 'would',\n",
       " 'write',\n",
       " 'year',\n",
       " 'years',\n",
       " 'yellen',\n",
       " 'yesterday',\n",
       " 'you',\n",
       " 'young']"
      ]
     },
     "execution_count": 60,
     "metadata": {},
     "output_type": "execute_result"
    }
   ],
   "source": [
    "# Return the feature names\n",
    "feature_names_vec2 = vectorizer2.get_feature_names()\n",
    "feature_names_vec2"
   ]
  },
  {
   "cell_type": "markdown",
   "metadata": {},
   "source": [
    "# Non-negative Matrix Factorization"
   ]
  },
  {
   "cell_type": "code",
   "execution_count": 61,
   "metadata": {},
   "outputs": [
    {
     "data": {
      "text/plain": [
       "NMF(alpha=0.1, init='nndsvda', l1_ratio=0.5, n_components=4, random_state=0,\n",
       "    solver='mu')"
      ]
     },
     "execution_count": 61,
     "metadata": {},
     "output_type": "execute_result"
    }
   ],
   "source": [
    "# Define the NMF model\n",
    "nmf = sklearn.decomposition.NMF(n_components=4,\n",
    "                                init=\"nndsvda\",\n",
    "                                solver=\"mu\",\n",
    "                                beta_loss=\"frobenius\",\n",
    "                                random_state=0,\n",
    "                                alpha=0.1,\n",
    "                                l1_ratio=0.5)\n",
    "nmf.fit(clean_vec2)"
   ]
  },
  {
   "cell_type": "code",
   "execution_count": 62,
   "metadata": {},
   "outputs": [],
   "source": [
    "# Run the get_topics functions\n",
    "W_df, H_df = get_topics(mod=nmf,\n",
    "                        vec=clean_vec2,\n",
    "                        names=feature_names_vec2,\n",
    "                        docs=raw,\n",
    "                        ndocs=number_docs,\n",
    "                        nwords=number_words)"
   ]
  },
  {
   "cell_type": "code",
   "execution_count": 63,
   "metadata": {},
   "outputs": [
    {
     "name": "stdout",
     "output_type": "stream",
     "text": [
      "                         Topic0                Topic1               Topic2  \\\n",
      "Word0           (0.0704, obama)     (0.0565, economy)  (0.0869, microsoft)   \n",
      "Word1       (0.0624, president)    (0.0204, economic)    (0.0296, windows)   \n",
      "Word2          (0.0462, barack)      (0.0168, growth)     (0.018, company)   \n",
      "Word3      (0.0153, washington)      (0.0132, global)   (0.0144, announce)   \n",
      "Word4           (0.0146, house)       (0.0119, china)     (0.0108, update)   \n",
      "Word5           (0.0138, white)     (0.0104, percent)    (0.0099, surface)   \n",
      "Word6           (0.0106, state)         (0.01, world)    (0.0095, release)   \n",
      "Word7  (0.0094, administration)     (0.0097, quarter)      (0.0094, cloud)   \n",
      "Word8           (0.0081, visit)        (0.0085, year)      (0.0093, today)   \n",
      "Word9            (0.008, first)  (0.0081, government)   (0.0081, software)   \n",
      "\n",
      "                    Topic3  \n",
      "Word0       (0.4213, quot)  \n",
      "Word1        (0.0215, the)  \n",
      "Word2          (0.014, we)  \n",
      "Word3       (0.0136, said)  \n",
      "Word4         (0.0097, it)  \n",
      "Word5  (0.0075, palestine)  \n",
      "Word6      (0.0072, would)  \n",
      "Word7     (0.0062, people)  \n",
      "Word8     (0.0055, saying)  \n",
      "Word9      (0.0053, trump)  \n"
     ]
    }
   ],
   "source": [
    "# print the W table\n",
    "print(W_df)"
   ]
  },
  {
   "cell_type": "code",
   "execution_count": 64,
   "metadata": {},
   "outputs": [
    {
     "name": "stdout",
     "output_type": "stream",
     "text": [
      "                                                 Topic0  \\\n",
      "Doc0  (0.0795, T) admitted to manipulating test data...   \n",
      "Doc1  (0.0795, The Palestinian academic community ho...   \n",
      "Doc2  (0.0795, Two-time Pulitzer Prize winning carto...   \n",
      "Doc3  (0.0795, But the sagging Canadian economy has ...   \n",
      "Doc4  (0.0795, ECONOMY, Pa. (AP) — A western Pennsyl...   \n",
      "Doc5  (0.0795, Marnell said the poor local economy i...   \n",
      "Doc6  (0.0795, Major business groups are suing the O...   \n",
      "Doc7  (0.0795, LinkedIn has the user data and focus ...   \n",
      "Doc8  (0.0795, Though a closely watched survey of bu...   \n",
      "Doc9  (0.0739, THE Treasury has revised down its eco...   \n",
      "\n",
      "                                                 Topic1  \\\n",
      "Doc0  (0.0631, Moscow has called on Israeli and Pale...   \n",
      "Doc1  (0.0631, President Barack Obama takes part Wed...   \n",
      "Doc2  (0.0631, Both China's central bank and a respe...   \n",
      "Doc3  (0.0631, In the past, Chinese authorities have...   \n",
      "Doc4  (0.0631, It was clear at launch all the way ba...   \n",
      "Doc5  (0.0631, The yuan has seen steady appreciation...   \n",
      "Doc6  (0.0631, The economy is a living animal one-si...   \n",
      "Doc7  (0.0631, Chinese consumers have adopted the di...   \n",
      "Doc8  (0.0631, 7 Questions and Answers About the Eco...   \n",
      "Doc9  (0.0631, Biafra: President Obama And The Loomi...   \n",
      "\n",
      "                                                 Topic2  \\\n",
      "Doc0  (0.0825, At Canadian Tire Corp. there are 2,50...   \n",
      "Doc1  (0.0825, Perhaps I look at the world through O...   \n",
      "Doc2  (0.0825, Duterte seeks to calm markets  - Mani...   \n",
      "Doc3  (0.0825, While we knew last year that Microsof...   \n",
      "Doc4  (0.0825, &quot;The Premier and I have written ...   \n",
      "Doc5  (0.0825, The on-demand gig economy is transfor...   \n",
      "Doc6  (0.0825, China's fresh economic data promises ...   \n",
      "Doc7  (0.0825, &quot;We will have further weaned our...   \n",
      "Doc8  (0.0825, President Barack Obama on Tuesday unl...   \n",
      "Doc9  (0.0825, President Barack Obama issued a Thank...   \n",
      "\n",
      "                                                 Topic3  \n",
      "Doc0  (0.1234, The Japanese company's adjusted fuel ...  \n",
      "Doc1  (0.1169, President Obama said Friday that scre...  \n",
      "Doc2  (0.1161, Nigeria's over-reliance on oil as its...  \n",
      "Doc3  (0.1161, It comes with other benefits: more ex...  \n",
      "Doc4  (0.1156, California is now the sixth largest e...  \n",
      "Doc5  (0.115, In his speech, Abbas did not forget to...  \n",
      "Doc6  (0.1136, Obama designated the Capitol Hill sit...  \n",
      "Doc7  (0.1124, The annual Strategic and Economic Dia...  \n",
      "Doc8  (0.1124, One of the most exciting and groundbr...  \n",
      "Doc9  (0.112, #BlackLivesMatter has become a rallyin...  \n"
     ]
    }
   ],
   "source": [
    "# print the H table\n",
    "print(H_df)"
   ]
  },
  {
   "cell_type": "markdown",
   "metadata": {},
   "source": [
    "# Visualizing NMF"
   ]
  },
  {
   "cell_type": "code",
   "execution_count": 65,
   "metadata": {},
   "outputs": [
    {
     "name": "stdout",
     "output_type": "stream",
     "text": [
      "(92941, 4)\n",
      "[[6.45624997e-02 7.57641588e-15 9.73164664e-37 1.50642869e-35]\n",
      " [5.27742304e-04 2.04748189e-02 6.06978272e-05 1.19555356e-14]\n",
      " [4.81003457e-14 1.72416534e-02 2.35385238e-14 2.26882562e-21]\n",
      " ...\n",
      " [1.73439996e-03 6.67553920e-03 1.26751395e-03 2.65013962e-06]\n",
      " [2.61558350e-03 4.65138303e-03 6.76049995e-04 5.79368335e-04]\n",
      " [1.87576276e-04 3.45095037e-04 1.69150175e-02 4.53200961e-16]]\n"
     ]
    }
   ],
   "source": [
    "# Run transform on the cleaned data to get the topic-document allocations\n",
    "nmf_transform = nmf.transform(clean_vec2)\n",
    "print(nmf_transform.shape)\n",
    "print(nmf_transform)"
   ]
  },
  {
   "cell_type": "code",
   "execution_count": 66,
   "metadata": {},
   "outputs": [
    {
     "name": "stdout",
     "output_type": "stream",
     "text": [
      "LENGTH:\n",
      "92941\n",
      "\n",
      "COUNTS:\n",
      "[[    0 27895]\n",
      " [    1 36136]\n",
      " [    2 21408]\n",
      " [    3  7502]]\n",
      "\n"
     ]
    },
    {
     "data": {
      "image/png": "[encoded data removed]",
      "text/plain": [
       "<Figure size 432x288 with 1 Axes>"
      ]
     },
     "metadata": {
      "needs_background": "light"
     },
     "output_type": "display_data"
    }
   ],
   "source": [
    "# Run the plot_tsne function\n",
    "plot_tsne(data=nmf_transform, threshold=0)"
   ]
  }
 ],
 "metadata": {
  "kernelspec": {
   "display_name": "Python 3",
   "language": "python",
   "name": "python3"
  },
  "language_info": {
   "codemirror_mode": {
    "name": "ipython",
    "version": 3
   },
   "file_extension": ".py",
   "mimetype": "text/x-python",
   "name": "python",
   "nbconvert_exporter": "python",
   "pygments_lexer": "ipython3",
   "version": "3.7.7"
  }
 },
 "nbformat": 4,
 "nbformat_minor": 4
}
